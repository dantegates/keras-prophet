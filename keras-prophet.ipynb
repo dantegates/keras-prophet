{
 "cells": [
  {
   "cell_type": "markdown",
   "metadata": {},
   "source": [
    "Data\n",
    "- https://www.cs.utexas.edu/~rofuyu/papers/tr-mf-nips.pdf\n",
    "- https://files.stlouisfed.org/files/htdocs/conferences/2014-nber-nsf/docs/papers/Nicholson,%20Will.pdf\n",
    "\n",
    "Blogs\n",
    "- https://medium.com/slalom-technology/failing-fast-with-deepar-neural-networks-for-time-series-ef442bf03567\n",
    "\n",
    "Do deep nets need to be so deep\n",
    "- https://arxiv.org/abs/1312.6184\n",
    "- https://arxiv.org/abs/1312.6184"
   ]
  },
  {
   "cell_type": "markdown",
   "metadata": {},
   "source": [
    "# Goals\n",
    "\n",
    "- model should reduce to fb prophet when some input parameter is 1 (e.g. number of layers) and before any link functions are applied. In other words, fb prophet should be a special case\n",
    "- support arbitrary loss functions\n",
    "- support multi-parameter distribution modeling\n",
    "- can we incorporate https://en.wikipedia.org/wiki/Discrete-time_Fourier_transform"
   ]
  },
  {
   "cell_type": "markdown",
   "metadata": {},
   "source": [
    "# TODO:\n",
    "\n",
    "- simulated data\n",
    "- divide by 1e12\n",
    "- try overfitting to a single house\n",
    "- try different data set: parts or https://www.kaggle.com/c/web-traffic-time-series-forecasting"
   ]
  },
  {
   "cell_type": "code",
   "execution_count": 170,
   "metadata": {
    "tags": []
   },
   "outputs": [
    {
     "data": {
      "text/html": [
       "<div>\n",
       "<style scoped>\n",
       "    .dataframe tbody tr th:only-of-type {\n",
       "        vertical-align: middle;\n",
       "    }\n",
       "\n",
       "    .dataframe tbody tr th {\n",
       "        vertical-align: top;\n",
       "    }\n",
       "\n",
       "    .dataframe thead th {\n",
       "        text-align: right;\n",
       "    }\n",
       "</style>\n",
       "<table border=\"1\" class=\"dataframe\">\n",
       "  <thead>\n",
       "    <tr style=\"text-align: right;\">\n",
       "      <th></th>\n",
       "      <th>MT_001</th>\n",
       "      <th>MT_002</th>\n",
       "      <th>MT_003</th>\n",
       "      <th>MT_004</th>\n",
       "      <th>MT_005</th>\n",
       "      <th>MT_006</th>\n",
       "      <th>MT_007</th>\n",
       "      <th>MT_008</th>\n",
       "      <th>MT_009</th>\n",
       "      <th>MT_010</th>\n",
       "      <th>...</th>\n",
       "      <th>MT_361</th>\n",
       "      <th>MT_362</th>\n",
       "      <th>MT_363</th>\n",
       "      <th>MT_364</th>\n",
       "      <th>MT_365</th>\n",
       "      <th>MT_366</th>\n",
       "      <th>MT_367</th>\n",
       "      <th>MT_368</th>\n",
       "      <th>MT_369</th>\n",
       "      <th>MT_370</th>\n",
       "    </tr>\n",
       "  </thead>\n",
       "  <tbody>\n",
       "    <tr>\n",
       "      <th>2011-01-01 00:15:00</th>\n",
       "      <td>0</td>\n",
       "      <td>0</td>\n",
       "      <td>0</td>\n",
       "      <td>0</td>\n",
       "      <td>0</td>\n",
       "      <td>0</td>\n",
       "      <td>0</td>\n",
       "      <td>0</td>\n",
       "      <td>0</td>\n",
       "      <td>0</td>\n",
       "      <td>...</td>\n",
       "      <td>0</td>\n",
       "      <td>0.0</td>\n",
       "      <td>0</td>\n",
       "      <td>0</td>\n",
       "      <td>0</td>\n",
       "      <td>0</td>\n",
       "      <td>0</td>\n",
       "      <td>0</td>\n",
       "      <td>0</td>\n",
       "      <td>0</td>\n",
       "    </tr>\n",
       "    <tr>\n",
       "      <th>2011-01-01 00:30:00</th>\n",
       "      <td>0</td>\n",
       "      <td>0</td>\n",
       "      <td>0</td>\n",
       "      <td>0</td>\n",
       "      <td>0</td>\n",
       "      <td>0</td>\n",
       "      <td>0</td>\n",
       "      <td>0</td>\n",
       "      <td>0</td>\n",
       "      <td>0</td>\n",
       "      <td>...</td>\n",
       "      <td>0</td>\n",
       "      <td>0.0</td>\n",
       "      <td>0</td>\n",
       "      <td>0</td>\n",
       "      <td>0</td>\n",
       "      <td>0</td>\n",
       "      <td>0</td>\n",
       "      <td>0</td>\n",
       "      <td>0</td>\n",
       "      <td>0</td>\n",
       "    </tr>\n",
       "    <tr>\n",
       "      <th>2011-01-01 00:45:00</th>\n",
       "      <td>0</td>\n",
       "      <td>0</td>\n",
       "      <td>0</td>\n",
       "      <td>0</td>\n",
       "      <td>0</td>\n",
       "      <td>0</td>\n",
       "      <td>0</td>\n",
       "      <td>0</td>\n",
       "      <td>0</td>\n",
       "      <td>0</td>\n",
       "      <td>...</td>\n",
       "      <td>0</td>\n",
       "      <td>0.0</td>\n",
       "      <td>0</td>\n",
       "      <td>0</td>\n",
       "      <td>0</td>\n",
       "      <td>0</td>\n",
       "      <td>0</td>\n",
       "      <td>0</td>\n",
       "      <td>0</td>\n",
       "      <td>0</td>\n",
       "    </tr>\n",
       "    <tr>\n",
       "      <th>2011-01-01 01:00:00</th>\n",
       "      <td>0</td>\n",
       "      <td>0</td>\n",
       "      <td>0</td>\n",
       "      <td>0</td>\n",
       "      <td>0</td>\n",
       "      <td>0</td>\n",
       "      <td>0</td>\n",
       "      <td>0</td>\n",
       "      <td>0</td>\n",
       "      <td>0</td>\n",
       "      <td>...</td>\n",
       "      <td>0</td>\n",
       "      <td>0.0</td>\n",
       "      <td>0</td>\n",
       "      <td>0</td>\n",
       "      <td>0</td>\n",
       "      <td>0</td>\n",
       "      <td>0</td>\n",
       "      <td>0</td>\n",
       "      <td>0</td>\n",
       "      <td>0</td>\n",
       "    </tr>\n",
       "    <tr>\n",
       "      <th>2011-01-01 01:15:00</th>\n",
       "      <td>0</td>\n",
       "      <td>0</td>\n",
       "      <td>0</td>\n",
       "      <td>0</td>\n",
       "      <td>0</td>\n",
       "      <td>0</td>\n",
       "      <td>0</td>\n",
       "      <td>0</td>\n",
       "      <td>0</td>\n",
       "      <td>0</td>\n",
       "      <td>...</td>\n",
       "      <td>0</td>\n",
       "      <td>0.0</td>\n",
       "      <td>0</td>\n",
       "      <td>0</td>\n",
       "      <td>0</td>\n",
       "      <td>0</td>\n",
       "      <td>0</td>\n",
       "      <td>0</td>\n",
       "      <td>0</td>\n",
       "      <td>0</td>\n",
       "    </tr>\n",
       "  </tbody>\n",
       "</table>\n",
       "<p>5 rows × 370 columns</p>\n",
       "</div>"
      ],
      "text/plain": [
       "                     MT_001  MT_002  MT_003  MT_004  MT_005  MT_006  MT_007  \\\n",
       "2011-01-01 00:15:00       0       0       0       0       0       0       0   \n",
       "2011-01-01 00:30:00       0       0       0       0       0       0       0   \n",
       "2011-01-01 00:45:00       0       0       0       0       0       0       0   \n",
       "2011-01-01 01:00:00       0       0       0       0       0       0       0   \n",
       "2011-01-01 01:15:00       0       0       0       0       0       0       0   \n",
       "\n",
       "                     MT_008  MT_009  MT_010  ...  MT_361  MT_362  MT_363  \\\n",
       "2011-01-01 00:15:00       0       0       0  ...       0     0.0       0   \n",
       "2011-01-01 00:30:00       0       0       0  ...       0     0.0       0   \n",
       "2011-01-01 00:45:00       0       0       0  ...       0     0.0       0   \n",
       "2011-01-01 01:00:00       0       0       0  ...       0     0.0       0   \n",
       "2011-01-01 01:15:00       0       0       0  ...       0     0.0       0   \n",
       "\n",
       "                     MT_364  MT_365  MT_366  MT_367  MT_368  MT_369  MT_370  \n",
       "2011-01-01 00:15:00       0       0       0       0       0       0       0  \n",
       "2011-01-01 00:30:00       0       0       0       0       0       0       0  \n",
       "2011-01-01 00:45:00       0       0       0       0       0       0       0  \n",
       "2011-01-01 01:00:00       0       0       0       0       0       0       0  \n",
       "2011-01-01 01:15:00       0       0       0       0       0       0       0  \n",
       "\n",
       "[5 rows x 370 columns]"
      ]
     },
     "execution_count": 170,
     "metadata": {},
     "output_type": "execute_result"
    }
   ],
   "source": [
    "import pandas as pd\n",
    "\n",
    "df = pd.read_csv('LD2011_2014.txt', sep=';', thousands=',', index_col=0)\n",
    "df.index = pd.to_datetime(df.index)\n",
    "df.head()"
   ]
  },
  {
   "cell_type": "code",
   "execution_count": 171,
   "metadata": {},
   "outputs": [
    {
     "data": {
      "text/plain": [
       "(140256, 370)"
      ]
     },
     "execution_count": 171,
     "metadata": {},
     "output_type": "execute_result"
    }
   ],
   "source": [
    "df.shape"
   ]
  },
  {
   "cell_type": "code",
   "execution_count": 172,
   "metadata": {},
   "outputs": [],
   "source": [
    "df.index.rename('ds', inplace=True)"
   ]
  },
  {
   "cell_type": "code",
   "execution_count": 173,
   "metadata": {},
   "outputs": [
    {
     "data": {
      "text/html": [
       "<div>\n",
       "<style scoped>\n",
       "    .dataframe tbody tr th:only-of-type {\n",
       "        vertical-align: middle;\n",
       "    }\n",
       "\n",
       "    .dataframe tbody tr th {\n",
       "        vertical-align: top;\n",
       "    }\n",
       "\n",
       "    .dataframe thead th {\n",
       "        text-align: right;\n",
       "    }\n",
       "</style>\n",
       "<table border=\"1\" class=\"dataframe\">\n",
       "  <thead>\n",
       "    <tr style=\"text-align: right;\">\n",
       "      <th></th>\n",
       "      <th>id</th>\n",
       "      <th>usage</th>\n",
       "    </tr>\n",
       "    <tr>\n",
       "      <th>ds</th>\n",
       "      <th></th>\n",
       "      <th></th>\n",
       "    </tr>\n",
       "  </thead>\n",
       "  <tbody>\n",
       "    <tr>\n",
       "      <th>2011-01-01 00:15:00</th>\n",
       "      <td>1</td>\n",
       "      <td>0.0</td>\n",
       "    </tr>\n",
       "    <tr>\n",
       "      <th>2011-01-01 00:30:00</th>\n",
       "      <td>1</td>\n",
       "      <td>0.0</td>\n",
       "    </tr>\n",
       "    <tr>\n",
       "      <th>2011-01-01 00:45:00</th>\n",
       "      <td>1</td>\n",
       "      <td>0.0</td>\n",
       "    </tr>\n",
       "    <tr>\n",
       "      <th>2011-01-01 01:00:00</th>\n",
       "      <td>1</td>\n",
       "      <td>0.0</td>\n",
       "    </tr>\n",
       "    <tr>\n",
       "      <th>2011-01-01 01:15:00</th>\n",
       "      <td>1</td>\n",
       "      <td>0.0</td>\n",
       "    </tr>\n",
       "  </tbody>\n",
       "</table>\n",
       "</div>"
      ],
      "text/plain": [
       "                     id  usage\n",
       "ds                            \n",
       "2011-01-01 00:15:00   1    0.0\n",
       "2011-01-01 00:30:00   1    0.0\n",
       "2011-01-01 00:45:00   1    0.0\n",
       "2011-01-01 01:00:00   1    0.0\n",
       "2011-01-01 01:15:00   1    0.0"
      ]
     },
     "execution_count": 173,
     "metadata": {},
     "output_type": "execute_result"
    }
   ],
   "source": [
    "df.columns = [int(c.split('_')[-1]) for c in df.columns]\n",
    "df = df.melt(ignore_index=False, value_vars=df.columns, var_name='id', value_name='usage')\n",
    "df.head()"
   ]
  },
  {
   "cell_type": "code",
   "execution_count": 174,
   "metadata": {},
   "outputs": [
    {
     "data": {
      "text/plain": [
       "(51894720, 2)"
      ]
     },
     "execution_count": 174,
     "metadata": {},
     "output_type": "execute_result"
    }
   ],
   "source": [
    "df.shape"
   ]
  },
  {
   "cell_type": "code",
   "execution_count": 175,
   "metadata": {},
   "outputs": [],
   "source": [
    "df = df.groupby(['id', pd.Grouper(freq='H')]).usage.sum()"
   ]
  },
  {
   "cell_type": "code",
   "execution_count": 176,
   "metadata": {},
   "outputs": [
    {
     "data": {
      "text/html": [
       "<div>\n",
       "<style scoped>\n",
       "    .dataframe tbody tr th:only-of-type {\n",
       "        vertical-align: middle;\n",
       "    }\n",
       "\n",
       "    .dataframe tbody tr th {\n",
       "        vertical-align: top;\n",
       "    }\n",
       "\n",
       "    .dataframe thead th {\n",
       "        text-align: right;\n",
       "    }\n",
       "</style>\n",
       "<table border=\"1\" class=\"dataframe\">\n",
       "  <thead>\n",
       "    <tr style=\"text-align: right;\">\n",
       "      <th></th>\n",
       "      <th>id</th>\n",
       "      <th>ds</th>\n",
       "      <th>usage</th>\n",
       "    </tr>\n",
       "  </thead>\n",
       "  <tbody>\n",
       "    <tr>\n",
       "      <th>0</th>\n",
       "      <td>1</td>\n",
       "      <td>2011-01-01 00:00:00</td>\n",
       "      <td>0.0</td>\n",
       "    </tr>\n",
       "    <tr>\n",
       "      <th>1</th>\n",
       "      <td>1</td>\n",
       "      <td>2011-01-01 01:00:00</td>\n",
       "      <td>0.0</td>\n",
       "    </tr>\n",
       "    <tr>\n",
       "      <th>2</th>\n",
       "      <td>1</td>\n",
       "      <td>2011-01-01 02:00:00</td>\n",
       "      <td>0.0</td>\n",
       "    </tr>\n",
       "    <tr>\n",
       "      <th>3</th>\n",
       "      <td>1</td>\n",
       "      <td>2011-01-01 03:00:00</td>\n",
       "      <td>0.0</td>\n",
       "    </tr>\n",
       "    <tr>\n",
       "      <th>4</th>\n",
       "      <td>1</td>\n",
       "      <td>2011-01-01 04:00:00</td>\n",
       "      <td>0.0</td>\n",
       "    </tr>\n",
       "  </tbody>\n",
       "</table>\n",
       "</div>"
      ],
      "text/plain": [
       "   id                  ds  usage\n",
       "0   1 2011-01-01 00:00:00    0.0\n",
       "1   1 2011-01-01 01:00:00    0.0\n",
       "2   1 2011-01-01 02:00:00    0.0\n",
       "3   1 2011-01-01 03:00:00    0.0\n",
       "4   1 2011-01-01 04:00:00    0.0"
      ]
     },
     "execution_count": 176,
     "metadata": {},
     "output_type": "execute_result"
    }
   ],
   "source": [
    "df = df.to_frame().reset_index()\n",
    "df.head()"
   ]
  },
  {
   "cell_type": "code",
   "execution_count": 177,
   "metadata": {},
   "outputs": [
    {
     "data": {
      "text/plain": [
       "(12974050, 3)"
      ]
     },
     "execution_count": 177,
     "metadata": {},
     "output_type": "execute_result"
    }
   ],
   "source": [
    "df.shape"
   ]
  },
  {
   "cell_type": "code",
   "execution_count": 178,
   "metadata": {},
   "outputs": [],
   "source": [
    "T0 = pd.Timestamp(0)\n",
    "df['t'] = (df.ds - T0).dt.total_seconds() / (60 * 60 * 24)"
   ]
  },
  {
   "cell_type": "code",
   "execution_count": 179,
   "metadata": {},
   "outputs": [
    {
     "data": {
      "text/plain": [
       "id\n",
       "1     2012-01-01\n",
       "2     2012-01-01\n",
       "3     2012-01-01\n",
       "4     2012-01-01\n",
       "5     2012-01-01\n",
       "         ...    \n",
       "366   2012-01-01\n",
       "367   2012-01-01\n",
       "368   2012-01-01\n",
       "369   2012-01-01\n",
       "370   2013-01-01\n",
       "Name: ds, Length: 370, dtype: datetime64[ns]"
      ]
     },
     "execution_count": 179,
     "metadata": {},
     "output_type": "execute_result"
    }
   ],
   "source": [
    "beginnings = df[df.usage.gt(0)].reset_index().groupby('id').ds.min()\n",
    "beginnings"
   ]
  },
  {
   "cell_type": "code",
   "execution_count": 180,
   "metadata": {},
   "outputs": [
    {
     "data": {
      "text/plain": [
       "(10484118, 4)"
      ]
     },
     "execution_count": 180,
     "metadata": {},
     "output_type": "execute_result"
    }
   ],
   "source": [
    "df = df[df.ds > df.id.map(beginnings)]\n",
    "df.shape"
   ]
  },
  {
   "cell_type": "code",
   "execution_count": 181,
   "metadata": {},
   "outputs": [],
   "source": [
    "C = 1e9\n",
    "df['usage'] /= C"
   ]
  },
  {
   "cell_type": "code",
   "execution_count": 182,
   "metadata": {},
   "outputs": [
    {
     "data": {
      "image/png": "[encoded data removed]",
      "text/plain": [
       "<Figure size 432x288 with 1 Axes>"
      ]
     },
     "metadata": {
      "needs_background": "light"
     },
     "output_type": "display_data"
    }
   ],
   "source": [
    "_ = df.groupby('id').usage.hist(alpha=.5)"
   ]
  },
  {
   "cell_type": "code",
   "execution_count": 183,
   "metadata": {},
   "outputs": [
    {
     "name": "stdout",
     "output_type": "stream",
     "text": [
      "CPU times: user 2.33 s, sys: 612 ms, total: 2.94 s\n",
      "Wall time: 2.94 s\n"
     ]
    },
    {
     "data": {
      "text/html": [
       "<div>\n",
       "<style scoped>\n",
       "    .dataframe tbody tr th:only-of-type {\n",
       "        vertical-align: middle;\n",
       "    }\n",
       "\n",
       "    .dataframe tbody tr th {\n",
       "        vertical-align: top;\n",
       "    }\n",
       "\n",
       "    .dataframe thead th {\n",
       "        text-align: right;\n",
       "    }\n",
       "</style>\n",
       "<table border=\"1\" class=\"dataframe\">\n",
       "  <thead>\n",
       "    <tr style=\"text-align: right;\">\n",
       "      <th></th>\n",
       "      <th>id</th>\n",
       "      <th>ds</th>\n",
       "      <th>usage</th>\n",
       "      <th>t</th>\n",
       "      <th>scaling_factor</th>\n",
       "    </tr>\n",
       "  </thead>\n",
       "  <tbody>\n",
       "    <tr>\n",
       "      <th>8761</th>\n",
       "      <td>1</td>\n",
       "      <td>2012-01-01 01:00:00</td>\n",
       "      <td>1.192893e+06</td>\n",
       "      <td>15340.041667</td>\n",
       "      <td>1.192893e+06</td>\n",
       "    </tr>\n",
       "    <tr>\n",
       "      <th>8762</th>\n",
       "      <td>1</td>\n",
       "      <td>2012-01-01 02:00:00</td>\n",
       "      <td>1.446701e+06</td>\n",
       "      <td>15340.083333</td>\n",
       "      <td>1.319797e+06</td>\n",
       "    </tr>\n",
       "    <tr>\n",
       "      <th>8763</th>\n",
       "      <td>1</td>\n",
       "      <td>2012-01-01 03:00:00</td>\n",
       "      <td>8.629442e+05</td>\n",
       "      <td>15340.125000</td>\n",
       "      <td>1.167513e+06</td>\n",
       "    </tr>\n",
       "    <tr>\n",
       "      <th>8764</th>\n",
       "      <td>1</td>\n",
       "      <td>2012-01-01 04:00:00</td>\n",
       "      <td>5.329949e+05</td>\n",
       "      <td>15340.166667</td>\n",
       "      <td>1.008883e+06</td>\n",
       "    </tr>\n",
       "    <tr>\n",
       "      <th>8765</th>\n",
       "      <td>1</td>\n",
       "      <td>2012-01-01 05:00:00</td>\n",
       "      <td>8.629442e+05</td>\n",
       "      <td>15340.208333</td>\n",
       "      <td>9.796954e+05</td>\n",
       "    </tr>\n",
       "  </tbody>\n",
       "</table>\n",
       "</div>"
      ],
      "text/plain": [
       "      id                  ds         usage             t  scaling_factor\n",
       "8761   1 2012-01-01 01:00:00  1.192893e+06  15340.041667    1.192893e+06\n",
       "8762   1 2012-01-01 02:00:00  1.446701e+06  15340.083333    1.319797e+06\n",
       "8763   1 2012-01-01 03:00:00  8.629442e+05  15340.125000    1.167513e+06\n",
       "8764   1 2012-01-01 04:00:00  5.329949e+05  15340.166667    1.008883e+06\n",
       "8765   1 2012-01-01 05:00:00  8.629442e+05  15340.208333    9.796954e+05"
      ]
     },
     "execution_count": 183,
     "metadata": {},
     "output_type": "execute_result"
    }
   ],
   "source": [
    "%%time\n",
    "\n",
    "df.sort_values(['id', 'ds'], inplace=True)\n",
    "df['scaling_factor'] = (1 / C) + df.set_index('ds').groupby('id').usage.rolling('60D', closed='right', engine='numba', raw=True).mean().values\n",
    "df.head()"
   ]
  },
  {
   "cell_type": "code",
   "execution_count": 184,
   "metadata": {},
   "outputs": [
    {
     "data": {
      "text/plain": [
       "(10484118, 5)"
      ]
     },
     "execution_count": 184,
     "metadata": {},
     "output_type": "execute_result"
    }
   ],
   "source": [
    "df.shape"
   ]
  },
  {
   "cell_type": "code",
   "execution_count": 185,
   "metadata": {},
   "outputs": [
    {
     "data": {
      "text/plain": [
       "<AxesSubplot:xlabel='ds'>"
      ]
     },
     "execution_count": 185,
     "metadata": {},
     "output_type": "execute_result"
    },
    {
     "data": {
      "image/png": "[encoded data removed]",
      "text/plain": [
       "<Figure size 720x360 with 1 Axes>"
      ]
     },
     "metadata": {
      "needs_background": "light"
     },
     "output_type": "display_data"
    }
   ],
   "source": [
    "import matplotlib.pyplot as plt\n",
    "\n",
    "\n",
    "fig, ax = plt.subplots(figsize=(10, 5))\n",
    "\n",
    "df = pd.concat(\n",
    "    d.iloc[60 * 24 * 4:]\n",
    "    for _, d in df.groupby('id')\n",
    ")\n",
    "df.iloc[:60 * 24 * 4:].set_index('ds').usage.plot()\n",
    "df.iloc[:60 * 24 * 4].set_index('ds').scaling_factor.plot()"
   ]
  },
  {
   "cell_type": "code",
   "execution_count": 186,
   "metadata": {},
   "outputs": [
    {
     "data": {
      "text/plain": [
       "<AxesSubplot:>"
      ]
     },
     "execution_count": 186,
     "metadata": {},
     "output_type": "execute_result"
    },
    {
     "data": {
      "image/png": "[encoded data removed]",
      "text/plain": [
       "<Figure size 432x288 with 1 Axes>"
      ]
     },
     "metadata": {
      "needs_background": "light"
     },
     "output_type": "display_data"
    }
   ],
   "source": [
    "(df.usage - df.scaling_factor).hist()"
   ]
  },
  {
   "cell_type": "code",
   "execution_count": 187,
   "metadata": {},
   "outputs": [
    {
     "data": {
      "text/html": [
       "<div>\n",
       "<style scoped>\n",
       "    .dataframe tbody tr th:only-of-type {\n",
       "        vertical-align: middle;\n",
       "    }\n",
       "\n",
       "    .dataframe tbody tr th {\n",
       "        vertical-align: top;\n",
       "    }\n",
       "\n",
       "    .dataframe thead th {\n",
       "        text-align: right;\n",
       "    }\n",
       "</style>\n",
       "<table border=\"1\" class=\"dataframe\">\n",
       "  <thead>\n",
       "    <tr style=\"text-align: right;\">\n",
       "      <th></th>\n",
       "      <th>id</th>\n",
       "      <th>ds</th>\n",
       "      <th>usage</th>\n",
       "      <th>t</th>\n",
       "      <th>scaling_factor</th>\n",
       "    </tr>\n",
       "  </thead>\n",
       "  <tbody>\n",
       "    <tr>\n",
       "      <th>14521</th>\n",
       "      <td>1</td>\n",
       "      <td>2012-08-28 01:00:00</td>\n",
       "      <td>8.883249e+05</td>\n",
       "      <td>15580.041667</td>\n",
       "      <td>809168.781726</td>\n",
       "    </tr>\n",
       "    <tr>\n",
       "      <th>14522</th>\n",
       "      <td>1</td>\n",
       "      <td>2012-08-28 02:00:00</td>\n",
       "      <td>8.883249e+05</td>\n",
       "      <td>15580.083333</td>\n",
       "      <td>809256.909193</td>\n",
       "    </tr>\n",
       "    <tr>\n",
       "      <th>14523</th>\n",
       "      <td>1</td>\n",
       "      <td>2012-08-28 03:00:00</td>\n",
       "      <td>7.614213e+05</td>\n",
       "      <td>15580.125000</td>\n",
       "      <td>809256.909193</td>\n",
       "    </tr>\n",
       "    <tr>\n",
       "      <th>14524</th>\n",
       "      <td>1</td>\n",
       "      <td>2012-08-28 04:00:00</td>\n",
       "      <td>7.614213e+05</td>\n",
       "      <td>15580.166667</td>\n",
       "      <td>809345.036661</td>\n",
       "    </tr>\n",
       "    <tr>\n",
       "      <th>14525</th>\n",
       "      <td>1</td>\n",
       "      <td>2012-08-28 05:00:00</td>\n",
       "      <td>1.015228e+06</td>\n",
       "      <td>15580.208333</td>\n",
       "      <td>809609.419064</td>\n",
       "    </tr>\n",
       "  </tbody>\n",
       "</table>\n",
       "</div>"
      ],
      "text/plain": [
       "       id                  ds         usage             t  scaling_factor\n",
       "14521   1 2012-08-28 01:00:00  8.883249e+05  15580.041667   809168.781726\n",
       "14522   1 2012-08-28 02:00:00  8.883249e+05  15580.083333   809256.909193\n",
       "14523   1 2012-08-28 03:00:00  7.614213e+05  15580.125000   809256.909193\n",
       "14524   1 2012-08-28 04:00:00  7.614213e+05  15580.166667   809345.036661\n",
       "14525   1 2012-08-28 05:00:00  1.015228e+06  15580.208333   809609.419064"
      ]
     },
     "execution_count": 187,
     "metadata": {},
     "output_type": "execute_result"
    }
   ],
   "source": [
    "df.head()"
   ]
  },
  {
   "cell_type": "code",
   "execution_count": 188,
   "metadata": {},
   "outputs": [
    {
     "data": {
      "text/plain": [
       "((6764098, 5), (242628, 5))"
      ]
     },
     "execution_count": 188,
     "metadata": {},
     "output_type": "execute_result"
    }
   ],
   "source": [
    "df_train = df[df.ds.lt('2014-07-01')]\n",
    "df_test = df[df.ds.between('2014-07-01', '2014-07-30')]\n",
    "df_train.shape, df_test.shape"
   ]
  },
  {
   "cell_type": "code",
   "execution_count": 189,
   "metadata": {},
   "outputs": [
    {
     "name": "stderr",
     "output_type": "stream",
     "text": [
      "/Users/dantegates/virtualenvs/default1/lib/python3.7/site-packages/ipykernel_launcher.py:2: SettingWithCopyWarning: \n",
      "A value is trying to be set on a copy of a slice from a DataFrame.\n",
      "Try using .loc[row_indexer,col_indexer] = value instead\n",
      "\n",
      "See the caveats in the documentation: https://pandas.pydata.org/pandas-docs/stable/user_guide/indexing.html#returning-a-view-versus-a-copy\n",
      "  \n",
      "/Users/dantegates/virtualenvs/default1/lib/python3.7/site-packages/ipykernel_launcher.py:3: SettingWithCopyWarning: \n",
      "A value is trying to be set on a copy of a slice from a DataFrame.\n",
      "Try using .loc[row_indexer,col_indexer] = value instead\n",
      "\n",
      "See the caveats in the documentation: https://pandas.pydata.org/pandas-docs/stable/user_guide/indexing.html#returning-a-view-versus-a-copy\n",
      "  This is separate from the ipykernel package so we can avoid doing imports until\n"
     ]
    }
   ],
   "source": [
    "id_map = {old: new for new, old in enumerate(df_train.id.unique())}\n",
    "df_train['id'] = df_train.id.map(id_map)\n",
    "df_test['id'] = df_test.id.map(id_map)\n",
    "df_test = df_test[df_test.id.notnull()]"
   ]
  },
  {
   "cell_type": "code",
   "execution_count": 190,
   "metadata": {},
   "outputs": [
    {
     "data": {
      "text/plain": [
       "((6764098, 5), (242556, 5))"
      ]
     },
     "execution_count": 190,
     "metadata": {},
     "output_type": "execute_result"
    }
   ],
   "source": [
    "df_train.shape, df_test.shape"
   ]
  },
  {
   "cell_type": "markdown",
   "metadata": {},
   "source": [
    "# Inspect"
   ]
  },
  {
   "cell_type": "code",
   "execution_count": 191,
   "metadata": {},
   "outputs": [],
   "source": [
    "%run stl"
   ]
  },
  {
   "cell_type": "code",
   "execution_count": 192,
   "metadata": {},
   "outputs": [
    {
     "data": {
      "text/plain": [
       "[<matplotlib.lines.Line2D at 0x7ff0d94c3b50>,\n",
       " <matplotlib.lines.Line2D at 0x7ff0d9469410>,\n",
       " <matplotlib.lines.Line2D at 0x7ff0d94c3f90>]"
      ]
     },
     "execution_count": 192,
     "metadata": {},
     "output_type": "execute_result"
    },
    {
     "data": {
      "image/png": "[encoded data removed]",
      "text/plain": [
       "<Figure size 432x288 with 1 Axes>"
      ]
     },
     "metadata": {
      "needs_background": "light"
     },
     "output_type": "display_data"
    }
   ],
   "source": [
    "import numpy as np\n",
    "\n",
    "c = 5\n",
    "d = np.repeat(np.random.laplace(scale=.1, size=(1, 3, c)), 100, axis=0)\n",
    "s = np.arange(c, dtype='float32') * 20\n",
    "t = np.arange(100, dtype='float32')[:, None] + 1.\n",
    "\n",
    "plt.plot(\n",
    "    CallaborativeLinearTrendEmbedding.trend(\n",
    "        d,\n",
    "        np.arange(3) * 10,\n",
    "        np.ones(3),\n",
    "        s,\n",
    "        t,\n",
    "    ).numpy()\n",
    ")"
   ]
  },
  {
   "cell_type": "code",
   "execution_count": 193,
   "metadata": {
    "jupyter": {
     "source_hidden": true
    },
    "tags": []
   },
   "outputs": [],
   "source": [
    "# import numpy as np\n",
    "# import tensorflow as tf\n",
    "\n",
    "\n",
    "# class SeasonalEmbedding(tf.keras.layers.Layer):\n",
    "#     def __init__(self, *args, input_dim, period, N, **kwargs):\n",
    "#         super().__init__(*args, **kwargs)\n",
    "#         self.input_dim = input_dim\n",
    "#         self.period = period\n",
    "#         self.N = N\n",
    "#         # model params\n",
    "#         self.a_n, self.b_n = [tf.keras.layers.Embedding(input_dim=input_dim, output_dim=N, input_length=1)] * 2\n",
    "\n",
    "\n",
    "#     def call(self, input_tensor, training=False):\n",
    "#         id, t = input_tensor\n",
    "#         n = (tf.range(self.N, dtype='float') + 1)[None, :]\n",
    "\n",
    "#         instance_trend = self.fourier_series(\n",
    "#             tf.squeeze(self.a_n(id), axis=1),\n",
    "#             tf.squeeze(self.b_n(id), axis=1),\n",
    "#             t,\n",
    "#             n,\n",
    "#             self.period)\n",
    "#         global_trend = self.fourier_series(\n",
    "#             tf.squeeze(self.a_n(tf.zeros_like(id)), axis=1),\n",
    "#             tf.squeeze(self.b_n(tf.zeros_like(id)), axis=1),\n",
    "#             t,\n",
    "#             n,\n",
    "#             self.period)\n",
    "        \n",
    "#         return instance_trend + global_trend\n",
    "\n",
    "#     @staticmethod\n",
    "#     def fourier_series(a_n, b_n, t, n, period):\n",
    "#         x = (2 * np.pi * tf.multiply(t, n)) / period\n",
    "#         return (\n",
    "#             tf.reduce_sum(tf.multiply(tf.cos(x), a_n), axis=1, keepdims=True)\n",
    "#             + tf.reduce_sum(tf.multiply(tf.sin(x), b_n), axis=1, keepdims=True)\n",
    "#         )\n",
    "    \n",
    "\n",
    "# class SeasonalEmbeddingWithMovement(tf.keras.layers.Layer):\n",
    "#     def __init__(self, *args, period, N, **kwargs):\n",
    "#         super().__init__(*args, **kwargs)\n",
    "#         self.period = period\n",
    "#         self.N = N\n",
    "#         # model params\n",
    "#         self.a_n, self.b_n = [tf.keras.layers.Dense(self.N, activation='linear')] * 2\n",
    "\n",
    "#     def call(self, input_tensor, training=False):\n",
    "#         X, t = input_tensor\n",
    "#         n = (tf.range(self.N, dtype='float') + 1)[None, :]\n",
    "\n",
    "#         return self.fourier_series(\n",
    "#             self.a_n(X),\n",
    "#             self.b_n(X),\n",
    "#             n,\n",
    "#             self.period,\n",
    "#             t)\n",
    "\n",
    "#     @staticmethod\n",
    "#     def fourier_series(a_n, b_n, n, period, t):\n",
    "#         x = (2 * np.pi * tf.multiply(t, n)) / period\n",
    "#         return (\n",
    "#             tf.reduce_sum(tf.multiply(tf.cos(x), a_n), axis=1, keepdims=True)\n",
    "#             + tf.reduce_sum(tf.multiply(tf.sin(x), b_n), axis=1, keepdims=True)\n",
    "#         )\n",
    "\n",
    "\n",
    "# class LinearTrendEmbedding(tf.keras.layers.Layer):\n",
    "#     def __init__(self, *args, input_dim, max_t, n_changepoints=25, checkpoint_range=.8, **kwargs):\n",
    "#         super().__init__(*args, **kwargs)\n",
    "#         self.input_dim = input_dim\n",
    "#         self.max_t = max_t\n",
    "#         self.n_changepoints = n_changepoints\n",
    "#         self.checkpoint_range = checkpoint_range\n",
    "#         self.δ = tf.keras.layers.Embedding(input_dim=input_dim, output_dim=self.n_changepoints * 3, input_length=1,\n",
    "#                                            # l1 imitates Laplace prior from Prophet model\n",
    "#                                            embeddings_regularizer='l1')\n",
    "#         self.m = tf.keras.layers.Embedding(input_dim=input_dim, output_dim=1, input_length=1)\n",
    "#         self.k = tf.keras.layers.Embedding(input_dim=input_dim, output_dim=1, input_length=1)\n",
    "\n",
    "#     def build(self, input_shape):\n",
    "#         self.s = tf.cast(tf.linspace(0, int(self.checkpoint_range * self.max_t), self.n_changepoints + 1), 'float')[1:]\n",
    "\n",
    "#     def call(self, input_tensor, training=False):\n",
    "#         id, t = input_tensor\n",
    "        \n",
    "#         instance_trend = self.trend(\n",
    "#             tf.reshape(tf.squeeze(self.δ(id), axis=1), (-1, self.n_changepoints, 3)),\n",
    "#             tf.reshape(tf.squeeze(self.m(id), axis=1), (-1, self.n_changepoints, 3)),\n",
    "#             tf.reshape(tf.squeeze(self.k(id), axis=1), (-1, self.n_changepoints, 3)),\n",
    "#             self.s,\n",
    "#             t)\n",
    "        \n",
    "#         global_trend = self.trend(\n",
    "#             tf.reshape(tf.squeeze(self.δ(tf.zeros_like(id)), axis=1), (-1, self.n_changepoints, 3)),\n",
    "#             tf.reshape(tf.squeeze(self.m(tf.zeros_like(id)), axis=1), (-1, self.n_changepoints, 3)),\n",
    "#             tf.reshape(tf.squeeze(self.k(tf.zeros_like(id)), axis=1), (-1, self.n_changepoints, 3)),\n",
    "#             self.s,\n",
    "#             t)\n",
    "\n",
    "#         return instance_trend + global_trend\n",
    "\n",
    "#     @staticmethod\n",
    "#     def trend(δ, m, k, s, t):\n",
    "#         A = tf.cast((t > s), 'float')\n",
    "\n",
    "#         trend = tf.reduce_sum(tf.multiply(A, δ), axis=-1) * t + k\n",
    "\n",
    "#         γ = tf.multiply(-s, δ)\n",
    "#         offset = tf.reduce_sum(tf.multiply(A, γ), axis=-1) + m\n",
    "\n",
    "#         return trend + offset\n",
    "    \n",
    "    \n",
    "# class LinearTrendEmbeddingWithMovement(tf.keras.layers.Layer):\n",
    "#     def __init__(self, *args, t_range, n_changepoints=25, checkpoint_range=.8, **kwargs):\n",
    "#         super().__init__(*args, **kwargs)\n",
    "#         self.t_range = t_range\n",
    "#         self.n_changepoints = n_changepoints\n",
    "#         self.checkpoint_range = checkpoint_range\n",
    "#         self.r = tf.keras.layers.Reshape((3, self.n_changepoints))\n",
    "#         self.δ = tf.keras.layers.Dense(self.n_changepoints * 3, kernel_regularizer='l1')\n",
    "#         self.m = tf.keras.layers.Dense(1)\n",
    "#         self.k = tf.keras.layers.Dense(1)\n",
    "\n",
    "#     def build(self, input_shape):\n",
    "#         self.s = tf.cast(tf.linspace(self.t_range[0], int(self.checkpoint_range * self.t_range[1]), self.n_changepoints + 1), 'float')[1:]\n",
    "\n",
    "#     def call(self, input_tensor, training=False):\n",
    "#         X, t = input_tensor\n",
    "#         return self.trend(\n",
    "#             self.r(self.δ(X)),\n",
    "#             self.m(X),\n",
    "#             self.k(X),\n",
    "#             self.s,\n",
    "#             t)\n",
    "\n",
    "#     @staticmethod\n",
    "#     def trend(δ, m, k, s, t):\n",
    "#         A = tf.cast((t > s), 'float')[:, None, :]\n",
    "\n",
    "#         trend = (tf.reduce_sum(tf.multiply(A, δ), axis=-1) + k) * t\n",
    "\n",
    "#         γ = tf.multiply(-s[None, None, :], δ)\n",
    "#         offset = tf.reduce_sum(tf.multiply(A, γ), axis=-1) + m\n",
    "\n",
    "#         return trend + offset\n",
    "    "
   ]
  },
  {
   "cell_type": "code",
   "execution_count": 194,
   "metadata": {},
   "outputs": [
    {
     "data": {
      "text/plain": [
       "<matplotlib.lines.Line2D at 0x7ff0d95599d0>"
      ]
     },
     "execution_count": 194,
     "metadata": {},
     "output_type": "execute_result"
    },
    {
     "data": {
      "image/png": "[encoded data removed]",
      "text/plain": [
       "<Figure size 432x288 with 1 Axes>"
      ]
     },
     "metadata": {
      "needs_background": "light"
     },
     "output_type": "display_data"
    }
   ],
   "source": [
    "order = 10\n",
    "\n",
    "plt.plot(\n",
    "    CallaborativeSeasonalEmbedding.fourier_series(\n",
    "        np.random.normal(size=order),\n",
    "        np.random.normal(size=order),\n",
    "        np.arange(order, dtype='float32') + 1,\n",
    "        24,\n",
    "        np.arange(192, dtype='float32')[:, None] / 4\n",
    "    ).numpy().ravel()\n",
    ")\n",
    "\n",
    "plt.gca().axvline(96, ls='--', color='k')"
   ]
  },
  {
   "cell_type": "code",
   "execution_count": 195,
   "metadata": {},
   "outputs": [
    {
     "name": "stdout",
     "output_type": "stream",
     "text": [
      "1 3\n",
      "2 4\n"
     ]
    }
   ],
   "source": [
    "a, b = [1, 2], [3, 4]\n",
    "for aa, bb in zip(a, b):\n",
    "    print(aa, bb)"
   ]
  },
  {
   "cell_type": "markdown",
   "metadata": {},
   "source": [
    "# Model"
   ]
  },
  {
   "cell_type": "code",
   "execution_count": 222,
   "metadata": {},
   "outputs": [],
   "source": [
    "import numpy as np\n",
    "import tensorflow as tf\n",
    "%run stl.py\n",
    "\n",
    "pi = tf.constant(np.pi)\n",
    "epsilon = tf.constant(1e-9)\n",
    "\n",
    "ln = tf.math.log  # alias\n",
    "lgamma = tf.math.lgamma  # alias\n",
    "\n",
    "\n",
    "def nb_nll(z, model_outputs):\n",
    "    μ, α = model_outputs[:, 0], model_outputs[:, 1]\n",
    "    return -(\n",
    "        lgamma(z + 1 / α) - lgamma(z + 1) - lgamma(1 / α)\n",
    "        + (1 / α) * ln(1 / (1 + α * μ))\n",
    "        + z * ln((α * μ) / (1 + α * μ))\n",
    "    )\n",
    "\n",
    "\n",
    "def scaler(inputs):\n",
    "    mu, alpha, v = inputs[0], inputs[1], inputs[2]\n",
    "    return tf.keras.layers.Concatenate()([mu * v, alpha / (2. * tf.sqrt(v))])\n",
    "Scaler = tf.keras.layers.Lambda(scaler)\n",
    "\n",
    "    \n",
    "id_input = tf.keras.Input((1,), name='id')\n",
    "t_input = tf.keras.Input((1,), name='t')\n",
    "\n",
    "\n",
    "def STL(df, embedding_dim=10, trend_dim=1, n_inner_layers=2, n_outer_layers=2, n_changepoints=20,\n",
    "        periods=None, T0=pd.Timestamp(0), output_activations=('linear',)):\n",
    "    \n",
    "    if periods is None:\n",
    "        periods = [(1, 20), (7, 3), (365.25, 10)]\n",
    "    \n",
    "    T = (df.ds - T0).dt.total_seconds() / (3600 * 24)\n",
    "\n",
    "    item_embeddings = tf.keras.layers.Reshape((embedding_dim,))(\n",
    "        tf.keras.layers.Embedding(input_dim=df.id.nunique(), output_dim=embedding_dim, input_length=1)(id_input)\n",
    "    )\n",
    "\n",
    "    trend_embeddings = tf.keras.layers.BatchNormalization()(\n",
    "       CallaborativeLinearTrendEmbedding(\n",
    "           output_dim=trend_dim,  # maybe N, and feed to collaborative seasonal embeddings?\n",
    "                                      # to get this to work we need to remove the linear growth assumption\n",
    "                                      # e.g. maybe just multiply by one\n",
    "                                  # or saturating growth might be sufficient\n",
    "           input_dim=1,\n",
    "           n_changepoints=n_changepoints,\n",
    "           t_range=(T.min(), T.max())\n",
    "       )([item_embeddings, t_input])\n",
    "    )\n",
    "\n",
    "    seasonal_embeddings = [\n",
    "        CallaborativeSeasonalEmbedding(period=period, N=N, n_layers=n_inner_layers)([item_embeddings, t_input])\n",
    "        for period, N in periods\n",
    "    ]\n",
    "\n",
    "\n",
    "    # perhaps a resnet layer would make sense here? If so maybe just use 4 instead\n",
    "    # of `embedding_dim`\n",
    "    X = tf.keras.layers.Concatenate()(seasonal_embeddings + [trend_embeddings])\n",
    "    for i in range(n_outer_layers):\n",
    "        X = tf.keras.layers.Dense(embedding_dim, activation='linear')(X)\n",
    "        \n",
    "    X = tf.keras.layers.Concatenate()([\n",
    "        tf.keras.layers.Dense(1, activation=A)(X)\n",
    "        for A in output_activations\n",
    "    ])\n",
    "\n",
    "    return X, seasonal_embeddings, trend_embeddings, item_embeddings\n",
    "\n",
    "\n",
    "Z, seasonal_embeddings, trend_embeddings, item_embeddings = STL(\n",
    "    df_train,\n",
    "    embedding_dim=5,\n",
    "    trend_dim=1,\n",
    "    n_inner_layers=1,\n",
    "    n_outer_layers=1,\n",
    "    periods=[(1, 20), (7, 3), (365.25, 10)],\n",
    "    n_changepoints=25,\n",
    "    output_activations=['softplus'] * 2)\n",
    "\n",
    "\n",
    "model = tf.keras.models.Model(\n",
    "    inputs=[\n",
    "        id_input,\n",
    "        t_input,\n",
    "    ],\n",
    "    outputs=Z)\n",
    "model.compile(loss=nb_nll, optimizer='adam')\n"
   ]
  },
  {
   "cell_type": "code",
   "execution_count": 223,
   "metadata": {},
   "outputs": [
    {
     "name": "stdout",
     "output_type": "stream",
     "text": [
      "Model: \"model_43\"\n",
      "__________________________________________________________________________________________________\n",
      "Layer (type)                    Output Shape         Param #     Connected to                     \n",
      "==================================================================================================\n",
      "id (InputLayer)                 [(None, 1)]          0                                            \n",
      "__________________________________________________________________________________________________\n",
      "embedding_12 (Embedding)        (None, 1, 15)        5220        id[0][0]                         \n",
      "__________________________________________________________________________________________________\n",
      "reshape_24 (Reshape)            (None, 15)           0           embedding_12[0][0]               \n",
      "__________________________________________________________________________________________________\n",
      "t (InputLayer)                  [(None, 1)]          0                                            \n",
      "__________________________________________________________________________________________________\n",
      "callaborative_linear_trend_embe (None, 5)            2160        reshape_24[0][0]                 \n",
      "                                                                 t[0][0]                          \n",
      "__________________________________________________________________________________________________\n",
      "callaborative_seasonal_embeddin (None, 1)            640         reshape_24[0][0]                 \n",
      "                                                                 t[0][0]                          \n",
      "__________________________________________________________________________________________________\n",
      "callaborative_seasonal_embeddin (None, 1)            96          reshape_24[0][0]                 \n",
      "                                                                 t[0][0]                          \n",
      "__________________________________________________________________________________________________\n",
      "callaborative_seasonal_embeddin (None, 1)            320         reshape_24[0][0]                 \n",
      "                                                                 t[0][0]                          \n",
      "__________________________________________________________________________________________________\n",
      "batch_normalization_11 (BatchNo (None, 5)            20          callaborative_linear_trend_embedd\n",
      "__________________________________________________________________________________________________\n",
      "concatenate_23 (Concatenate)    (None, 8)            0           callaborative_seasonal_embedding_\n",
      "                                                                 callaborative_seasonal_embedding_\n",
      "                                                                 callaborative_seasonal_embedding_\n",
      "                                                                 batch_normalization_11[0][0]     \n",
      "__________________________________________________________________________________________________\n",
      "dense_176 (Dense)               (None, 15)           135         concatenate_23[0][0]             \n",
      "__________________________________________________________________________________________________\n",
      "dense_177 (Dense)               (None, 15)           240         dense_176[0][0]                  \n",
      "__________________________________________________________________________________________________\n",
      "dense_178 (Dense)               (None, 1)            16          dense_177[0][0]                  \n",
      "__________________________________________________________________________________________________\n",
      "dense_179 (Dense)               (None, 1)            16          dense_177[0][0]                  \n",
      "__________________________________________________________________________________________________\n",
      "concatenate_24 (Concatenate)    (None, 2)            0           dense_178[0][0]                  \n",
      "                                                                 dense_179[0][0]                  \n",
      "==================================================================================================\n",
      "Total params: 8,863\n",
      "Trainable params: 8,853\n",
      "Non-trainable params: 10\n",
      "__________________________________________________________________________________________________\n"
     ]
    }
   ],
   "source": [
    "model.summary()"
   ]
  },
  {
   "cell_type": "code",
   "execution_count": 224,
   "metadata": {
    "tags": []
   },
   "outputs": [
    {
     "name": "stdout",
     "output_type": "stream",
     "text": [
      "Epoch 1/10\n",
      "46875/46875 [==============================] - 57s 1ms/step - loss: 13531.9600 - val_loss: 19.0600\n",
      "Epoch 2/10\n",
      "46875/46875 [==============================] - 53s 1ms/step - loss: nan - val_loss: nan\n",
      "Epoch 3/10\n",
      "46875/46875 [==============================] - 54s 1ms/step - loss: nan - val_loss: nan\n",
      "Epoch 4/10\n",
      "46846/46875 [============================>.] - ETA: 0s - loss: nan"
     ]
    },
    {
     "ename": "KeyboardInterrupt",
     "evalue": "",
     "output_type": "error",
     "traceback": [
      "\u001b[0;31m---------------------------------------------------------------------------\u001b[0m",
      "\u001b[0;31mKeyboardInterrupt\u001b[0m                         Traceback (most recent call last)",
      "\u001b[0;32m<ipython-input-224-0573b0d2e0c7>\u001b[0m in \u001b[0;36m<module>\u001b[0;34m\u001b[0m\n\u001b[1;32m      7\u001b[0m     \u001b[0mepochs\u001b[0m\u001b[0;34m=\u001b[0m\u001b[0;36m10\u001b[0m\u001b[0;34m,\u001b[0m\u001b[0;34m\u001b[0m\u001b[0;34m\u001b[0m\u001b[0m\n\u001b[1;32m      8\u001b[0m     \u001b[0mvalidation_data\u001b[0m\u001b[0;34m=\u001b[0m\u001b[0;34m(\u001b[0m\u001b[0mdf_test\u001b[0m\u001b[0;34m[\u001b[0m\u001b[0;34m[\u001b[0m\u001b[0;34m'id'\u001b[0m\u001b[0;34m,\u001b[0m \u001b[0;34m't'\u001b[0m\u001b[0;34m]\u001b[0m\u001b[0;34m]\u001b[0m\u001b[0;34m.\u001b[0m\u001b[0mto_dict\u001b[0m\u001b[0;34m(\u001b[0m\u001b[0;34m'series'\u001b[0m\u001b[0;34m)\u001b[0m\u001b[0;34m,\u001b[0m \u001b[0mdf_test\u001b[0m\u001b[0;34m.\u001b[0m\u001b[0musage\u001b[0m\u001b[0;34m)\u001b[0m\u001b[0;34m,\u001b[0m\u001b[0;34m\u001b[0m\u001b[0;34m\u001b[0m\u001b[0m\n\u001b[0;32m----> 9\u001b[0;31m     \u001b[0mcallbacks\u001b[0m\u001b[0;34m=\u001b[0m\u001b[0;34m[\u001b[0m\u001b[0mtf\u001b[0m\u001b[0;34m.\u001b[0m\u001b[0mkeras\u001b[0m\u001b[0;34m.\u001b[0m\u001b[0mcallbacks\u001b[0m\u001b[0;34m.\u001b[0m\u001b[0mReduceLROnPlateau\u001b[0m\u001b[0;34m(\u001b[0m\u001b[0mverbose\u001b[0m\u001b[0;34m=\u001b[0m\u001b[0;36m1\u001b[0m\u001b[0;34m,\u001b[0m \u001b[0mpatience\u001b[0m\u001b[0;34m=\u001b[0m\u001b[0;36m3\u001b[0m\u001b[0;34m)\u001b[0m\u001b[0;34m]\u001b[0m\u001b[0;34m\u001b[0m\u001b[0;34m\u001b[0m\u001b[0m\n\u001b[0m\u001b[1;32m     10\u001b[0m )\n",
      "\u001b[0;32m~/virtualenvs/default1/lib/python3.7/site-packages/tensorflow/python/keras/engine/training.py\u001b[0m in \u001b[0;36mfit\u001b[0;34m(self, x, y, batch_size, epochs, verbose, callbacks, validation_split, validation_data, shuffle, class_weight, sample_weight, initial_epoch, steps_per_epoch, validation_steps, validation_batch_size, validation_freq, max_queue_size, workers, use_multiprocessing)\u001b[0m\n\u001b[1;32m   1139\u001b[0m               \u001b[0mworkers\u001b[0m\u001b[0;34m=\u001b[0m\u001b[0mworkers\u001b[0m\u001b[0;34m,\u001b[0m\u001b[0;34m\u001b[0m\u001b[0;34m\u001b[0m\u001b[0m\n\u001b[1;32m   1140\u001b[0m               \u001b[0muse_multiprocessing\u001b[0m\u001b[0;34m=\u001b[0m\u001b[0muse_multiprocessing\u001b[0m\u001b[0;34m,\u001b[0m\u001b[0;34m\u001b[0m\u001b[0;34m\u001b[0m\u001b[0m\n\u001b[0;32m-> 1141\u001b[0;31m               return_dict=True)\n\u001b[0m\u001b[1;32m   1142\u001b[0m           \u001b[0mval_logs\u001b[0m \u001b[0;34m=\u001b[0m \u001b[0;34m{\u001b[0m\u001b[0;34m'val_'\u001b[0m \u001b[0;34m+\u001b[0m \u001b[0mname\u001b[0m\u001b[0;34m:\u001b[0m \u001b[0mval\u001b[0m \u001b[0;32mfor\u001b[0m \u001b[0mname\u001b[0m\u001b[0;34m,\u001b[0m \u001b[0mval\u001b[0m \u001b[0;32min\u001b[0m \u001b[0mval_logs\u001b[0m\u001b[0;34m.\u001b[0m\u001b[0mitems\u001b[0m\u001b[0;34m(\u001b[0m\u001b[0;34m)\u001b[0m\u001b[0;34m}\u001b[0m\u001b[0;34m\u001b[0m\u001b[0;34m\u001b[0m\u001b[0m\n\u001b[1;32m   1143\u001b[0m           \u001b[0mepoch_logs\u001b[0m\u001b[0;34m.\u001b[0m\u001b[0mupdate\u001b[0m\u001b[0;34m(\u001b[0m\u001b[0mval_logs\u001b[0m\u001b[0;34m)\u001b[0m\u001b[0;34m\u001b[0m\u001b[0;34m\u001b[0m\u001b[0m\n",
      "\u001b[0;32m~/virtualenvs/default1/lib/python3.7/site-packages/tensorflow/python/keras/engine/training.py\u001b[0m in \u001b[0;36mevaluate\u001b[0;34m(self, x, y, batch_size, verbose, sample_weight, steps, callbacks, max_queue_size, workers, use_multiprocessing, return_dict)\u001b[0m\n\u001b[1;32m   1387\u001b[0m             \u001b[0;32mwith\u001b[0m \u001b[0mtrace\u001b[0m\u001b[0;34m.\u001b[0m\u001b[0mTrace\u001b[0m\u001b[0;34m(\u001b[0m\u001b[0;34m'test'\u001b[0m\u001b[0;34m,\u001b[0m \u001b[0mstep_num\u001b[0m\u001b[0;34m=\u001b[0m\u001b[0mstep\u001b[0m\u001b[0;34m,\u001b[0m \u001b[0m_r\u001b[0m\u001b[0;34m=\u001b[0m\u001b[0;36m1\u001b[0m\u001b[0;34m)\u001b[0m\u001b[0;34m:\u001b[0m\u001b[0;34m\u001b[0m\u001b[0;34m\u001b[0m\u001b[0m\n\u001b[1;32m   1388\u001b[0m               \u001b[0mcallbacks\u001b[0m\u001b[0;34m.\u001b[0m\u001b[0mon_test_batch_begin\u001b[0m\u001b[0;34m(\u001b[0m\u001b[0mstep\u001b[0m\u001b[0;34m)\u001b[0m\u001b[0;34m\u001b[0m\u001b[0;34m\u001b[0m\u001b[0m\n\u001b[0;32m-> 1389\u001b[0;31m               \u001b[0mtmp_logs\u001b[0m \u001b[0;34m=\u001b[0m \u001b[0mself\u001b[0m\u001b[0;34m.\u001b[0m\u001b[0mtest_function\u001b[0m\u001b[0;34m(\u001b[0m\u001b[0miterator\u001b[0m\u001b[0;34m)\u001b[0m\u001b[0;34m\u001b[0m\u001b[0;34m\u001b[0m\u001b[0m\n\u001b[0m\u001b[1;32m   1390\u001b[0m               \u001b[0;32mif\u001b[0m \u001b[0mdata_handler\u001b[0m\u001b[0;34m.\u001b[0m\u001b[0mshould_sync\u001b[0m\u001b[0;34m:\u001b[0m\u001b[0;34m\u001b[0m\u001b[0;34m\u001b[0m\u001b[0m\n\u001b[1;32m   1391\u001b[0m                 \u001b[0mcontext\u001b[0m\u001b[0;34m.\u001b[0m\u001b[0masync_wait\u001b[0m\u001b[0;34m(\u001b[0m\u001b[0;34m)\u001b[0m\u001b[0;34m\u001b[0m\u001b[0;34m\u001b[0m\u001b[0m\n",
      "\u001b[0;32m~/virtualenvs/default1/lib/python3.7/site-packages/tensorflow/python/eager/def_function.py\u001b[0m in \u001b[0;36m__call__\u001b[0;34m(self, *args, **kwds)\u001b[0m\n\u001b[1;32m    826\u001b[0m     \u001b[0mtracing_count\u001b[0m \u001b[0;34m=\u001b[0m \u001b[0mself\u001b[0m\u001b[0;34m.\u001b[0m\u001b[0mexperimental_get_tracing_count\u001b[0m\u001b[0;34m(\u001b[0m\u001b[0;34m)\u001b[0m\u001b[0;34m\u001b[0m\u001b[0;34m\u001b[0m\u001b[0m\n\u001b[1;32m    827\u001b[0m     \u001b[0;32mwith\u001b[0m \u001b[0mtrace\u001b[0m\u001b[0;34m.\u001b[0m\u001b[0mTrace\u001b[0m\u001b[0;34m(\u001b[0m\u001b[0mself\u001b[0m\u001b[0;34m.\u001b[0m\u001b[0m_name\u001b[0m\u001b[0;34m)\u001b[0m \u001b[0;32mas\u001b[0m \u001b[0mtm\u001b[0m\u001b[0;34m:\u001b[0m\u001b[0;34m\u001b[0m\u001b[0;34m\u001b[0m\u001b[0m\n\u001b[0;32m--> 828\u001b[0;31m       \u001b[0mresult\u001b[0m \u001b[0;34m=\u001b[0m \u001b[0mself\u001b[0m\u001b[0;34m.\u001b[0m\u001b[0m_call\u001b[0m\u001b[0;34m(\u001b[0m\u001b[0;34m*\u001b[0m\u001b[0margs\u001b[0m\u001b[0;34m,\u001b[0m \u001b[0;34m**\u001b[0m\u001b[0mkwds\u001b[0m\u001b[0;34m)\u001b[0m\u001b[0;34m\u001b[0m\u001b[0;34m\u001b[0m\u001b[0m\n\u001b[0m\u001b[1;32m    829\u001b[0m       \u001b[0mcompiler\u001b[0m \u001b[0;34m=\u001b[0m \u001b[0;34m\"xla\"\u001b[0m \u001b[0;32mif\u001b[0m \u001b[0mself\u001b[0m\u001b[0;34m.\u001b[0m\u001b[0m_experimental_compile\u001b[0m \u001b[0;32melse\u001b[0m \u001b[0;34m\"nonXla\"\u001b[0m\u001b[0;34m\u001b[0m\u001b[0;34m\u001b[0m\u001b[0m\n\u001b[1;32m    830\u001b[0m       \u001b[0mnew_tracing_count\u001b[0m \u001b[0;34m=\u001b[0m \u001b[0mself\u001b[0m\u001b[0;34m.\u001b[0m\u001b[0mexperimental_get_tracing_count\u001b[0m\u001b[0;34m(\u001b[0m\u001b[0;34m)\u001b[0m\u001b[0;34m\u001b[0m\u001b[0;34m\u001b[0m\u001b[0m\n",
      "\u001b[0;32m~/virtualenvs/default1/lib/python3.7/site-packages/tensorflow/python/eager/def_function.py\u001b[0m in \u001b[0;36m_call\u001b[0;34m(self, *args, **kwds)\u001b[0m\n\u001b[1;32m    860\u001b[0m       \u001b[0;31m# In this case we have not created variables on the first call. So we can\u001b[0m\u001b[0;34m\u001b[0m\u001b[0;34m\u001b[0m\u001b[0;34m\u001b[0m\u001b[0m\n\u001b[1;32m    861\u001b[0m       \u001b[0;31m# run the first trace but we should fail if variables are created.\u001b[0m\u001b[0;34m\u001b[0m\u001b[0;34m\u001b[0m\u001b[0;34m\u001b[0m\u001b[0m\n\u001b[0;32m--> 862\u001b[0;31m       \u001b[0mresults\u001b[0m \u001b[0;34m=\u001b[0m \u001b[0mself\u001b[0m\u001b[0;34m.\u001b[0m\u001b[0m_stateful_fn\u001b[0m\u001b[0;34m(\u001b[0m\u001b[0;34m*\u001b[0m\u001b[0margs\u001b[0m\u001b[0;34m,\u001b[0m \u001b[0;34m**\u001b[0m\u001b[0mkwds\u001b[0m\u001b[0;34m)\u001b[0m\u001b[0;34m\u001b[0m\u001b[0;34m\u001b[0m\u001b[0m\n\u001b[0m\u001b[1;32m    863\u001b[0m       \u001b[0;32mif\u001b[0m \u001b[0mself\u001b[0m\u001b[0;34m.\u001b[0m\u001b[0m_created_variables\u001b[0m\u001b[0;34m:\u001b[0m\u001b[0;34m\u001b[0m\u001b[0;34m\u001b[0m\u001b[0m\n\u001b[1;32m    864\u001b[0m         raise ValueError(\"Creating variables on a non-first call to a function\"\n",
      "\u001b[0;32m~/virtualenvs/default1/lib/python3.7/site-packages/tensorflow/python/eager/function.py\u001b[0m in \u001b[0;36m__call__\u001b[0;34m(self, *args, **kwargs)\u001b[0m\n\u001b[1;32m   2941\u001b[0m        filtered_flat_args) = self._maybe_define_function(args, kwargs)\n\u001b[1;32m   2942\u001b[0m     return graph_function._call_flat(\n\u001b[0;32m-> 2943\u001b[0;31m         filtered_flat_args, captured_inputs=graph_function.captured_inputs)  # pylint: disable=protected-access\n\u001b[0m\u001b[1;32m   2944\u001b[0m \u001b[0;34m\u001b[0m\u001b[0m\n\u001b[1;32m   2945\u001b[0m   \u001b[0;34m@\u001b[0m\u001b[0mproperty\u001b[0m\u001b[0;34m\u001b[0m\u001b[0;34m\u001b[0m\u001b[0m\n",
      "\u001b[0;32m~/virtualenvs/default1/lib/python3.7/site-packages/tensorflow/python/eager/function.py\u001b[0m in \u001b[0;36m_call_flat\u001b[0;34m(self, args, captured_inputs, cancellation_manager)\u001b[0m\n\u001b[1;32m   1917\u001b[0m       \u001b[0;31m# No tape is watching; skip to running the function.\u001b[0m\u001b[0;34m\u001b[0m\u001b[0;34m\u001b[0m\u001b[0;34m\u001b[0m\u001b[0m\n\u001b[1;32m   1918\u001b[0m       return self._build_call_outputs(self._inference_function.call(\n\u001b[0;32m-> 1919\u001b[0;31m           ctx, args, cancellation_manager=cancellation_manager))\n\u001b[0m\u001b[1;32m   1920\u001b[0m     forward_backward = self._select_forward_and_backward_functions(\n\u001b[1;32m   1921\u001b[0m         \u001b[0margs\u001b[0m\u001b[0;34m,\u001b[0m\u001b[0;34m\u001b[0m\u001b[0;34m\u001b[0m\u001b[0m\n",
      "\u001b[0;32m~/virtualenvs/default1/lib/python3.7/site-packages/tensorflow/python/eager/function.py\u001b[0m in \u001b[0;36mcall\u001b[0;34m(self, ctx, args, cancellation_manager)\u001b[0m\n\u001b[1;32m    558\u001b[0m               \u001b[0minputs\u001b[0m\u001b[0;34m=\u001b[0m\u001b[0margs\u001b[0m\u001b[0;34m,\u001b[0m\u001b[0;34m\u001b[0m\u001b[0;34m\u001b[0m\u001b[0m\n\u001b[1;32m    559\u001b[0m               \u001b[0mattrs\u001b[0m\u001b[0;34m=\u001b[0m\u001b[0mattrs\u001b[0m\u001b[0;34m,\u001b[0m\u001b[0;34m\u001b[0m\u001b[0;34m\u001b[0m\u001b[0m\n\u001b[0;32m--> 560\u001b[0;31m               ctx=ctx)\n\u001b[0m\u001b[1;32m    561\u001b[0m         \u001b[0;32melse\u001b[0m\u001b[0;34m:\u001b[0m\u001b[0;34m\u001b[0m\u001b[0;34m\u001b[0m\u001b[0m\n\u001b[1;32m    562\u001b[0m           outputs = execute.execute_with_cancellation(\n",
      "\u001b[0;32m~/virtualenvs/default1/lib/python3.7/site-packages/tensorflow/python/eager/execute.py\u001b[0m in \u001b[0;36mquick_execute\u001b[0;34m(op_name, num_outputs, inputs, attrs, ctx, name)\u001b[0m\n\u001b[1;32m     58\u001b[0m     \u001b[0mctx\u001b[0m\u001b[0;34m.\u001b[0m\u001b[0mensure_initialized\u001b[0m\u001b[0;34m(\u001b[0m\u001b[0;34m)\u001b[0m\u001b[0;34m\u001b[0m\u001b[0;34m\u001b[0m\u001b[0m\n\u001b[1;32m     59\u001b[0m     tensors = pywrap_tfe.TFE_Py_Execute(ctx._handle, device_name, op_name,\n\u001b[0;32m---> 60\u001b[0;31m                                         inputs, attrs, num_outputs)\n\u001b[0m\u001b[1;32m     61\u001b[0m   \u001b[0;32mexcept\u001b[0m \u001b[0mcore\u001b[0m\u001b[0;34m.\u001b[0m\u001b[0m_NotOkStatusException\u001b[0m \u001b[0;32mas\u001b[0m \u001b[0me\u001b[0m\u001b[0;34m:\u001b[0m\u001b[0;34m\u001b[0m\u001b[0;34m\u001b[0m\u001b[0m\n\u001b[1;32m     62\u001b[0m     \u001b[0;32mif\u001b[0m \u001b[0mname\u001b[0m \u001b[0;32mis\u001b[0m \u001b[0;32mnot\u001b[0m \u001b[0;32mNone\u001b[0m\u001b[0;34m:\u001b[0m\u001b[0;34m\u001b[0m\u001b[0;34m\u001b[0m\u001b[0m\n",
      "\u001b[0;31mKeyboardInterrupt\u001b[0m: "
     ]
    }
   ],
   "source": [
    "train_sample = df_train.sample(1_500_000, weights=df_train.usage)\n",
    "\n",
    "model.fit(\n",
    "    train_sample[['id', 't']].to_dict('series'),\n",
    "    train_sample.usage,\n",
    "    batch_size=32,\n",
    "    epochs=10,\n",
    "    validation_data=(df_test[['id', 't']].to_dict('series'), df_test.usage),\n",
    "    callbacks=[tf.keras.callbacks.ReduceLROnPlateau(verbose=1, patience=3)]\n",
    ")"
   ]
  },
  {
   "cell_type": "code",
   "execution_count": null,
   "metadata": {},
   "outputs": [],
   "source": [
    "fig, axs = plt.subplots(4, 1, figsize=(10, 10))\n",
    "\n",
    "sampled_ids = np.random.choice(df_train.id.unique(), size=30)\n",
    "\n",
    "trend_model = tf.keras.models.Model(inputs=[\n",
    "        id_input,\n",
    "        t_input,\n",
    "    ], outputs=trend_embeddings)\n",
    "\n",
    "for i in sampled_ids:\n",
    "    T = np.linspace(df_train.t.min(), df_train.t.max())\n",
    "    axs[0].plot(T0 + pd.to_timedelta(T, unit='days'),\n",
    "                trend_model.predict({'t': T, 'id': np.zeros_like(T) + i}), color='r', alpha=.5)\n",
    "\n",
    "for ax, E, P in zip(axs[1:], seasonal_embeddings, [1, 7, 365.25]):\n",
    "    T = np.linspace(0, P)\n",
    "    seasonality_model = tf.keras.models.Model(inputs=[\n",
    "        id_input,\n",
    "        t_input,\n",
    "    ], outputs=E)\n",
    "\n",
    "    for i in sampled_ids:\n",
    "        seasonal_embedding = seasonality_model.predict({'t': T, 'id': np.zeros_like(T) + i})\n",
    "        ax.plot(T0 + pd.to_timedelta(T, unit='days'),\n",
    "                seasonal_embedding, color='r', alpha=.5)\n"
   ]
  },
  {
   "cell_type": "code",
   "execution_count": null,
   "metadata": {},
   "outputs": [],
   "source": [
    "zz = df_train.sample(100)\n",
    "y_test_params = model.predict(zz[['id', 't', 'scaling_factor']].to_dict('series'))\n",
    "mu = y_test_params[:, 0]\n",
    "\n",
    "(zz.usage - mu).hist()"
   ]
  },
  {
   "cell_type": "code",
   "execution_count": null,
   "metadata": {},
   "outputs": [],
   "source": [
    "fig, ax = plt.subplots(figsize=(10, 5), sharey=True)\n",
    "\n",
    "i = np.random.choice(df_train.id)\n",
    "zz = df_train[df_train.id == i].set_index('ds').sort_index()\n",
    "zz = zz.loc[:zz.index.min() + pd.to_timedelta('7D')]\n",
    "zz['p'] = model.predict(zz[['id', 't', 'scaling_factor']].to_dict('series'))[:, 0]\n",
    "zz.usage.plot(ax=ax, color='C0')\n",
    "zz.p.plot(ax=ax.twinx(), color='C1')\n"
   ]
  },
  {
   "cell_type": "code",
   "execution_count": null,
   "metadata": {},
   "outputs": [],
   "source": [
    "fig, ax = plt.subplots(figsize=(10, 5), sharey=True)\n",
    "\n",
    "i = np.random.choice(df_test.id)\n",
    "zz = df_test[df_test.id == i].set_index('ds').sort_index()\n",
    "zz = zz.loc[:zz.index.min() + pd.to_timedelta('14D')]\n",
    "zz['p'] = model.predict(zz[['id', 't', 'scaling_factor']].to_dict('series'))[:, 0]\n",
    "zz.usage.plot(ax=ax, color='C0')\n",
    "zz.p.plot(ax=ax.twinx(), color='C1')\n"
   ]
  },
  {
   "cell_type": "code",
   "execution_count": null,
   "metadata": {},
   "outputs": [],
   "source": [
    "import pymc3 as pm\n",
    "\n",
    "\n",
    "fig, ax = plt.subplots(figsize=(10, 5))\n",
    "\n",
    "\n",
    "i = np.random.choice(df_test.id.unique())\n",
    "zz = df_test[df_test.id == i].set_index('ds').sort_index()\n",
    "zz = zz.loc[:zz.index.min() + pd.to_timedelta('14D')]\n",
    "m, a = model.predict(zz[['id', 't']].to_dict('series')).T\n",
    "var = m + a * m ** 2\n",
    "# zz.usage.plot(ax=ax, color='C0')\n",
    "\n",
    "ax.plot(zz.index, m, color='C1')\n",
    "\n",
    "dist = pm.NegativeBinomial.dist(m, a).random(size=100)\n",
    "lower = np.quantile(dist, .05, axis=0)\n",
    "upper = np.quantile(dist, .95, axis=0)\n",
    "ax.errorbar(\n",
    "    x=zz.index,\n",
    "    y=m,\n",
    "    yerr=(m - lower, upper),\n",
    "    color='C1',\n",
    "    alpha=.5\n",
    ")\n",
    "\n",
    "zz.usage.plot()\n"
   ]
  }
 ],
 "metadata": {
  "kernelspec": {
   "display_name": "Python 3",
   "language": "python",
   "name": "python3"
  },
  "language_info": {
   "codemirror_mode": {
    "name": "ipython",
    "version": 3
   },
   "file_extension": ".py",
   "mimetype": "text/x-python",
   "name": "python",
   "nbconvert_exporter": "python",
   "pygments_lexer": "ipython3",
   "version": "3.7.9"
  }
 },
 "nbformat": 4,
 "nbformat_minor": 4
}
