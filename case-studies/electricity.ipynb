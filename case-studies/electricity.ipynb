{
 "cells": [
  {
   "cell_type": "markdown",
   "metadata": {},
   "source": [
    "so long and thanks for all the fish\n",
    "\n",
    "Neural Prophet\n",
    "- https://github.com/ourownstory/neural_prophet\n",
    "\n",
    "Time to Vec\n",
    "- https://arxiv.org/pdf/1907.05321.pdf\n",
    "\n",
    "Bayesian Structural time Series\n",
    "- https://people.ischool.berkeley.edu/~hal/Papers/2013/pred-present-with-bsts.pdf\n",
    "\n",
    "Data\n",
    "- https://www.cs.utexas.edu/~rofuyu/papers/tr-mf-nips.pdf\n",
    "- https://files.stlouisfed.org/files/htdocs/conferences/2014-nber-nsf/docs/papers/Nicholson,%20Will.pdf\n",
    "\n",
    "Blogs\n",
    "- https://medium.com/slalom-technology/failing-fast-with-deepar-neural-networks-for-time-series-ef442bf03567\n",
    "- https://towardsdatascience.com/the-fall-of-rnn-lstm-2d1594c74ce0\n",
    "\n",
    "Do deep nets need to be so deep\n",
    "- https://arxiv.org/abs/1312.6184\n",
    "- https://arxiv.org/abs/1312.6184"
   ]
  },
  {
   "cell_type": "markdown",
   "metadata": {},
   "source": [
    "# Goals\n",
    "\n",
    "- model should reduce to fb prophet when some input parameter is 1 (e.g. number of layers) and before any link functions are applied. In other words, fb prophet should be a special case\n",
    "- demonstrate ability to support non normal distributions - count data, conversion rates\n",
    "- demonstrate generalization to new \"items\" (IDs) via collaborative layers\n",
    "- support arbitrary loss functions\n",
    "- support multi-parameter distribution modeling"
   ]
  },
  {
   "cell_type": "markdown",
   "metadata": {},
   "source": [
    "# TODO:\n",
    "\n",
    "- Handle outliers using markov transition: from state outlier to state not outlier\n",
    "- simulated data\n",
    "- try overfitting to a single house\n",
    "- try different data set: parts or https://www.kaggle.com/c/web-traffic-time-series-forecasting\n",
    "- can we incorporate https://en.wikipedia.org/wiki/Discrete-time_Fourier_transform\n",
    "- maybe offset the `t` in seasonal layers with the trend embedding\n",
    "- Use RBF for holidays"
   ]
  },
  {
   "cell_type": "code",
   "execution_count": 3,
   "metadata": {
    "tags": []
   },
   "outputs": [
    {
     "data": {
      "text/html": [
       "<div>\n",
       "<style scoped>\n",
       "    .dataframe tbody tr th:only-of-type {\n",
       "        vertical-align: middle;\n",
       "    }\n",
       "\n",
       "    .dataframe tbody tr th {\n",
       "        vertical-align: top;\n",
       "    }\n",
       "\n",
       "    .dataframe thead th {\n",
       "        text-align: right;\n",
       "    }\n",
       "</style>\n",
       "<table border=\"1\" class=\"dataframe\">\n",
       "  <thead>\n",
       "    <tr style=\"text-align: right;\">\n",
       "      <th></th>\n",
       "      <th>MT_001</th>\n",
       "      <th>MT_002</th>\n",
       "      <th>MT_003</th>\n",
       "      <th>MT_004</th>\n",
       "      <th>MT_005</th>\n",
       "      <th>MT_006</th>\n",
       "      <th>MT_007</th>\n",
       "      <th>MT_008</th>\n",
       "      <th>MT_009</th>\n",
       "      <th>MT_010</th>\n",
       "      <th>...</th>\n",
       "      <th>MT_361</th>\n",
       "      <th>MT_362</th>\n",
       "      <th>MT_363</th>\n",
       "      <th>MT_364</th>\n",
       "      <th>MT_365</th>\n",
       "      <th>MT_366</th>\n",
       "      <th>MT_367</th>\n",
       "      <th>MT_368</th>\n",
       "      <th>MT_369</th>\n",
       "      <th>MT_370</th>\n",
       "    </tr>\n",
       "  </thead>\n",
       "  <tbody>\n",
       "    <tr>\n",
       "      <th>2011-01-01 00:15:00</th>\n",
       "      <td>0</td>\n",
       "      <td>0</td>\n",
       "      <td>0</td>\n",
       "      <td>0</td>\n",
       "      <td>0</td>\n",
       "      <td>0</td>\n",
       "      <td>0</td>\n",
       "      <td>0</td>\n",
       "      <td>0</td>\n",
       "      <td>0</td>\n",
       "      <td>...</td>\n",
       "      <td>0</td>\n",
       "      <td>0.0</td>\n",
       "      <td>0</td>\n",
       "      <td>0</td>\n",
       "      <td>0</td>\n",
       "      <td>0</td>\n",
       "      <td>0</td>\n",
       "      <td>0</td>\n",
       "      <td>0</td>\n",
       "      <td>0</td>\n",
       "    </tr>\n",
       "    <tr>\n",
       "      <th>2011-01-01 00:30:00</th>\n",
       "      <td>0</td>\n",
       "      <td>0</td>\n",
       "      <td>0</td>\n",
       "      <td>0</td>\n",
       "      <td>0</td>\n",
       "      <td>0</td>\n",
       "      <td>0</td>\n",
       "      <td>0</td>\n",
       "      <td>0</td>\n",
       "      <td>0</td>\n",
       "      <td>...</td>\n",
       "      <td>0</td>\n",
       "      <td>0.0</td>\n",
       "      <td>0</td>\n",
       "      <td>0</td>\n",
       "      <td>0</td>\n",
       "      <td>0</td>\n",
       "      <td>0</td>\n",
       "      <td>0</td>\n",
       "      <td>0</td>\n",
       "      <td>0</td>\n",
       "    </tr>\n",
       "    <tr>\n",
       "      <th>2011-01-01 00:45:00</th>\n",
       "      <td>0</td>\n",
       "      <td>0</td>\n",
       "      <td>0</td>\n",
       "      <td>0</td>\n",
       "      <td>0</td>\n",
       "      <td>0</td>\n",
       "      <td>0</td>\n",
       "      <td>0</td>\n",
       "      <td>0</td>\n",
       "      <td>0</td>\n",
       "      <td>...</td>\n",
       "      <td>0</td>\n",
       "      <td>0.0</td>\n",
       "      <td>0</td>\n",
       "      <td>0</td>\n",
       "      <td>0</td>\n",
       "      <td>0</td>\n",
       "      <td>0</td>\n",
       "      <td>0</td>\n",
       "      <td>0</td>\n",
       "      <td>0</td>\n",
       "    </tr>\n",
       "    <tr>\n",
       "      <th>2011-01-01 01:00:00</th>\n",
       "      <td>0</td>\n",
       "      <td>0</td>\n",
       "      <td>0</td>\n",
       "      <td>0</td>\n",
       "      <td>0</td>\n",
       "      <td>0</td>\n",
       "      <td>0</td>\n",
       "      <td>0</td>\n",
       "      <td>0</td>\n",
       "      <td>0</td>\n",
       "      <td>...</td>\n",
       "      <td>0</td>\n",
       "      <td>0.0</td>\n",
       "      <td>0</td>\n",
       "      <td>0</td>\n",
       "      <td>0</td>\n",
       "      <td>0</td>\n",
       "      <td>0</td>\n",
       "      <td>0</td>\n",
       "      <td>0</td>\n",
       "      <td>0</td>\n",
       "    </tr>\n",
       "    <tr>\n",
       "      <th>2011-01-01 01:15:00</th>\n",
       "      <td>0</td>\n",
       "      <td>0</td>\n",
       "      <td>0</td>\n",
       "      <td>0</td>\n",
       "      <td>0</td>\n",
       "      <td>0</td>\n",
       "      <td>0</td>\n",
       "      <td>0</td>\n",
       "      <td>0</td>\n",
       "      <td>0</td>\n",
       "      <td>...</td>\n",
       "      <td>0</td>\n",
       "      <td>0.0</td>\n",
       "      <td>0</td>\n",
       "      <td>0</td>\n",
       "      <td>0</td>\n",
       "      <td>0</td>\n",
       "      <td>0</td>\n",
       "      <td>0</td>\n",
       "      <td>0</td>\n",
       "      <td>0</td>\n",
       "    </tr>\n",
       "  </tbody>\n",
       "</table>\n",
       "<p>5 rows × 370 columns</p>\n",
       "</div>"
      ],
      "text/plain": [
       "                     MT_001  MT_002  MT_003  MT_004  MT_005  MT_006  MT_007  \\\n",
       "2011-01-01 00:15:00       0       0       0       0       0       0       0   \n",
       "2011-01-01 00:30:00       0       0       0       0       0       0       0   \n",
       "2011-01-01 00:45:00       0       0       0       0       0       0       0   \n",
       "2011-01-01 01:00:00       0       0       0       0       0       0       0   \n",
       "2011-01-01 01:15:00       0       0       0       0       0       0       0   \n",
       "\n",
       "                     MT_008  MT_009  MT_010  ...  MT_361  MT_362  MT_363  \\\n",
       "2011-01-01 00:15:00       0       0       0  ...       0     0.0       0   \n",
       "2011-01-01 00:30:00       0       0       0  ...       0     0.0       0   \n",
       "2011-01-01 00:45:00       0       0       0  ...       0     0.0       0   \n",
       "2011-01-01 01:00:00       0       0       0  ...       0     0.0       0   \n",
       "2011-01-01 01:15:00       0       0       0  ...       0     0.0       0   \n",
       "\n",
       "                     MT_364  MT_365  MT_366  MT_367  MT_368  MT_369  MT_370  \n",
       "2011-01-01 00:15:00       0       0       0       0       0       0       0  \n",
       "2011-01-01 00:30:00       0       0       0       0       0       0       0  \n",
       "2011-01-01 00:45:00       0       0       0       0       0       0       0  \n",
       "2011-01-01 01:00:00       0       0       0       0       0       0       0  \n",
       "2011-01-01 01:15:00       0       0       0       0       0       0       0  \n",
       "\n",
       "[5 rows x 370 columns]"
      ]
     },
     "execution_count": 3,
     "metadata": {},
     "output_type": "execute_result"
    }
   ],
   "source": [
    "import pandas as pd\n",
    "\n",
    "df = pd.read_csv('../data/LD2011_2014.txt', sep=';', thousands=',', index_col=0)\n",
    "df.index = pd.to_datetime(df.index)\n",
    "df.head()"
   ]
  },
  {
   "cell_type": "code",
   "execution_count": 4,
   "metadata": {},
   "outputs": [
    {
     "data": {
      "text/plain": [
       "(140256, 370)"
      ]
     },
     "execution_count": 4,
     "metadata": {},
     "output_type": "execute_result"
    }
   ],
   "source": [
    "df.shape"
   ]
  },
  {
   "cell_type": "code",
   "execution_count": 5,
   "metadata": {},
   "outputs": [],
   "source": [
    "df.index.rename('ds', inplace=True)"
   ]
  },
  {
   "cell_type": "code",
   "execution_count": 6,
   "metadata": {},
   "outputs": [
    {
     "data": {
      "text/html": [
       "<div>\n",
       "<style scoped>\n",
       "    .dataframe tbody tr th:only-of-type {\n",
       "        vertical-align: middle;\n",
       "    }\n",
       "\n",
       "    .dataframe tbody tr th {\n",
       "        vertical-align: top;\n",
       "    }\n",
       "\n",
       "    .dataframe thead th {\n",
       "        text-align: right;\n",
       "    }\n",
       "</style>\n",
       "<table border=\"1\" class=\"dataframe\">\n",
       "  <thead>\n",
       "    <tr style=\"text-align: right;\">\n",
       "      <th></th>\n",
       "      <th>id</th>\n",
       "      <th>usage</th>\n",
       "    </tr>\n",
       "    <tr>\n",
       "      <th>ds</th>\n",
       "      <th></th>\n",
       "      <th></th>\n",
       "    </tr>\n",
       "  </thead>\n",
       "  <tbody>\n",
       "    <tr>\n",
       "      <th>2011-01-01 00:15:00</th>\n",
       "      <td>1</td>\n",
       "      <td>0.0</td>\n",
       "    </tr>\n",
       "    <tr>\n",
       "      <th>2011-01-01 00:30:00</th>\n",
       "      <td>1</td>\n",
       "      <td>0.0</td>\n",
       "    </tr>\n",
       "    <tr>\n",
       "      <th>2011-01-01 00:45:00</th>\n",
       "      <td>1</td>\n",
       "      <td>0.0</td>\n",
       "    </tr>\n",
       "    <tr>\n",
       "      <th>2011-01-01 01:00:00</th>\n",
       "      <td>1</td>\n",
       "      <td>0.0</td>\n",
       "    </tr>\n",
       "    <tr>\n",
       "      <th>2011-01-01 01:15:00</th>\n",
       "      <td>1</td>\n",
       "      <td>0.0</td>\n",
       "    </tr>\n",
       "  </tbody>\n",
       "</table>\n",
       "</div>"
      ],
      "text/plain": [
       "                     id  usage\n",
       "ds                            \n",
       "2011-01-01 00:15:00   1    0.0\n",
       "2011-01-01 00:30:00   1    0.0\n",
       "2011-01-01 00:45:00   1    0.0\n",
       "2011-01-01 01:00:00   1    0.0\n",
       "2011-01-01 01:15:00   1    0.0"
      ]
     },
     "execution_count": 6,
     "metadata": {},
     "output_type": "execute_result"
    }
   ],
   "source": [
    "df.columns = [int(c.split('_')[-1]) for c in df.columns]\n",
    "df = df.melt(ignore_index=False, value_vars=df.columns, var_name='id', value_name='usage')\n",
    "df.head()"
   ]
  },
  {
   "cell_type": "code",
   "execution_count": 7,
   "metadata": {},
   "outputs": [
    {
     "data": {
      "text/plain": [
       "(51894720, 2)"
      ]
     },
     "execution_count": 7,
     "metadata": {},
     "output_type": "execute_result"
    }
   ],
   "source": [
    "df.shape"
   ]
  },
  {
   "cell_type": "code",
   "execution_count": 8,
   "metadata": {},
   "outputs": [],
   "source": [
    "df = df.groupby(['id', pd.Grouper(freq='H')]).usage.sum()"
   ]
  },
  {
   "cell_type": "code",
   "execution_count": 9,
   "metadata": {},
   "outputs": [
    {
     "data": {
      "text/html": [
       "<div>\n",
       "<style scoped>\n",
       "    .dataframe tbody tr th:only-of-type {\n",
       "        vertical-align: middle;\n",
       "    }\n",
       "\n",
       "    .dataframe tbody tr th {\n",
       "        vertical-align: top;\n",
       "    }\n",
       "\n",
       "    .dataframe thead th {\n",
       "        text-align: right;\n",
       "    }\n",
       "</style>\n",
       "<table border=\"1\" class=\"dataframe\">\n",
       "  <thead>\n",
       "    <tr style=\"text-align: right;\">\n",
       "      <th></th>\n",
       "      <th>id</th>\n",
       "      <th>ds</th>\n",
       "      <th>usage</th>\n",
       "    </tr>\n",
       "  </thead>\n",
       "  <tbody>\n",
       "    <tr>\n",
       "      <th>0</th>\n",
       "      <td>1</td>\n",
       "      <td>2011-01-01 00:00:00</td>\n",
       "      <td>0.0</td>\n",
       "    </tr>\n",
       "    <tr>\n",
       "      <th>1</th>\n",
       "      <td>1</td>\n",
       "      <td>2011-01-01 01:00:00</td>\n",
       "      <td>0.0</td>\n",
       "    </tr>\n",
       "    <tr>\n",
       "      <th>2</th>\n",
       "      <td>1</td>\n",
       "      <td>2011-01-01 02:00:00</td>\n",
       "      <td>0.0</td>\n",
       "    </tr>\n",
       "    <tr>\n",
       "      <th>3</th>\n",
       "      <td>1</td>\n",
       "      <td>2011-01-01 03:00:00</td>\n",
       "      <td>0.0</td>\n",
       "    </tr>\n",
       "    <tr>\n",
       "      <th>4</th>\n",
       "      <td>1</td>\n",
       "      <td>2011-01-01 04:00:00</td>\n",
       "      <td>0.0</td>\n",
       "    </tr>\n",
       "  </tbody>\n",
       "</table>\n",
       "</div>"
      ],
      "text/plain": [
       "   id                  ds  usage\n",
       "0   1 2011-01-01 00:00:00    0.0\n",
       "1   1 2011-01-01 01:00:00    0.0\n",
       "2   1 2011-01-01 02:00:00    0.0\n",
       "3   1 2011-01-01 03:00:00    0.0\n",
       "4   1 2011-01-01 04:00:00    0.0"
      ]
     },
     "execution_count": 9,
     "metadata": {},
     "output_type": "execute_result"
    }
   ],
   "source": [
    "df = df.to_frame().reset_index()\n",
    "df.head()"
   ]
  },
  {
   "cell_type": "code",
   "execution_count": 10,
   "metadata": {},
   "outputs": [
    {
     "data": {
      "text/plain": [
       "(12974050, 3)"
      ]
     },
     "execution_count": 10,
     "metadata": {},
     "output_type": "execute_result"
    }
   ],
   "source": [
    "df.shape"
   ]
  },
  {
   "cell_type": "code",
   "execution_count": 11,
   "metadata": {},
   "outputs": [],
   "source": [
    "T0 = pd.Timestamp(0)\n",
    "df['t'] = (df.ds - T0).dt.total_seconds() / (60 * 60 * 24)"
   ]
  },
  {
   "cell_type": "code",
   "execution_count": 12,
   "metadata": {},
   "outputs": [
    {
     "data": {
      "text/plain": [
       "id\n",
       "1     2012-01-01\n",
       "2     2012-01-01\n",
       "3     2012-01-01\n",
       "4     2012-01-01\n",
       "5     2012-01-01\n",
       "         ...    \n",
       "366   2012-01-01\n",
       "367   2012-01-01\n",
       "368   2012-01-01\n",
       "369   2012-01-01\n",
       "370   2013-01-01\n",
       "Name: ds, Length: 370, dtype: datetime64[ns]"
      ]
     },
     "execution_count": 12,
     "metadata": {},
     "output_type": "execute_result"
    }
   ],
   "source": [
    "beginnings = df[df.usage.gt(0)].reset_index().groupby('id').ds.min()\n",
    "beginnings"
   ]
  },
  {
   "cell_type": "code",
   "execution_count": 13,
   "metadata": {},
   "outputs": [
    {
     "data": {
      "text/plain": [
       "(10484118, 4)"
      ]
     },
     "execution_count": 13,
     "metadata": {},
     "output_type": "execute_result"
    }
   ],
   "source": [
    "df = df[df.ds > df.id.map(beginnings)]\n",
    "df.shape"
   ]
  },
  {
   "cell_type": "code",
   "execution_count": 14,
   "metadata": {},
   "outputs": [],
   "source": [
    "C = 1e9\n",
    "df['usage'] /= C"
   ]
  },
  {
   "cell_type": "code",
   "execution_count": 15,
   "metadata": {},
   "outputs": [
    {
     "data": {
      "image/png": "[encoded data removed]",
      "text/plain": [
       "<Figure size 432x288 with 1 Axes>"
      ]
     },
     "metadata": {
      "needs_background": "light"
     },
     "output_type": "display_data"
    }
   ],
   "source": [
    "_ = df.groupby('id').usage.hist(alpha=.5)"
   ]
  },
  {
   "cell_type": "code",
   "execution_count": 19,
   "metadata": {},
   "outputs": [],
   "source": [
    "# %%time\n",
    "\n",
    "# df.sort_values(['id', 'ds'], inplace=True)\n",
    "# df['scaling_factor'] = (1 / C) + df.set_index('ds').groupby('id').usage.rolling('60D', closed='right', engine='numba', raw=True).mean().values\n",
    "# df.head()"
   ]
  },
  {
   "cell_type": "code",
   "execution_count": 20,
   "metadata": {},
   "outputs": [
    {
     "data": {
      "text/plain": [
       "(8354670, 4)"
      ]
     },
     "execution_count": 20,
     "metadata": {},
     "output_type": "execute_result"
    }
   ],
   "source": [
    "df.shape"
   ]
  },
  {
   "cell_type": "code",
   "execution_count": 22,
   "metadata": {},
   "outputs": [],
   "source": [
    "# import matplotlib.pyplot as plt\n",
    "\n",
    "\n",
    "# fig, ax = plt.subplots(figsize=(10, 5))\n",
    "\n",
    "# df = pd.concat(\n",
    "#     d.iloc[60 * 24 * 4:]\n",
    "#     for _, d in df.groupby('id')\n",
    "# )\n",
    "# df.iloc[:60 * 24 * 4:].set_index('ds').usage.plot()\n",
    "# df.iloc[:60 * 24 * 4].set_index('ds').scaling_factor.plot()"
   ]
  },
  {
   "cell_type": "code",
   "execution_count": 23,
   "metadata": {},
   "outputs": [
    {
     "data": {
      "text/plain": [
       "<AxesSubplot:xlabel='ds'>"
      ]
     },
     "execution_count": 23,
     "metadata": {},
     "output_type": "execute_result"
    },
    {
     "data": {
      "image/png": "[encoded data removed]",
      "text/plain": [
       "<Figure size 720x360 with 1 Axes>"
      ]
     },
     "metadata": {
      "needs_background": "light"
     },
     "output_type": "display_data"
    }
   ],
   "source": [
    "X = (\n",
    "    df[df.id.eq(df.id.sample().iloc[0])]\n",
    "    .sort_values('ds')\n",
    "    .set_index('ds')\n",
    "    .usage\n",
    "    .loc['2014-01-01':'2014-02-02']\n",
    ")\n",
    "X.plot(figsize=(10, 5))"
   ]
  },
  {
   "cell_type": "code",
   "execution_count": 26,
   "metadata": {},
   "outputs": [],
   "source": [
    "# (df.usage - df.scaling_factor).hist()"
   ]
  },
  {
   "cell_type": "code",
   "execution_count": 27,
   "metadata": {},
   "outputs": [
    {
     "data": {
      "text/html": [
       "<div>\n",
       "<style scoped>\n",
       "    .dataframe tbody tr th:only-of-type {\n",
       "        vertical-align: middle;\n",
       "    }\n",
       "\n",
       "    .dataframe tbody tr th {\n",
       "        vertical-align: top;\n",
       "    }\n",
       "\n",
       "    .dataframe thead th {\n",
       "        text-align: right;\n",
       "    }\n",
       "</style>\n",
       "<table border=\"1\" class=\"dataframe\">\n",
       "  <thead>\n",
       "    <tr style=\"text-align: right;\">\n",
       "      <th></th>\n",
       "      <th>id</th>\n",
       "      <th>ds</th>\n",
       "      <th>usage</th>\n",
       "      <th>t</th>\n",
       "    </tr>\n",
       "  </thead>\n",
       "  <tbody>\n",
       "    <tr>\n",
       "      <th>20281</th>\n",
       "      <td>1</td>\n",
       "      <td>2013-04-25 01:00:00</td>\n",
       "      <td>634517.766497</td>\n",
       "      <td>15820.041667</td>\n",
       "    </tr>\n",
       "    <tr>\n",
       "      <th>20282</th>\n",
       "      <td>1</td>\n",
       "      <td>2013-04-25 02:00:00</td>\n",
       "      <td>507614.213198</td>\n",
       "      <td>15820.083333</td>\n",
       "    </tr>\n",
       "    <tr>\n",
       "      <th>20283</th>\n",
       "      <td>1</td>\n",
       "      <td>2013-04-25 03:00:00</td>\n",
       "      <td>634517.766497</td>\n",
       "      <td>15820.125000</td>\n",
       "    </tr>\n",
       "    <tr>\n",
       "      <th>20284</th>\n",
       "      <td>1</td>\n",
       "      <td>2013-04-25 04:00:00</td>\n",
       "      <td>634517.766497</td>\n",
       "      <td>15820.166667</td>\n",
       "    </tr>\n",
       "    <tr>\n",
       "      <th>20285</th>\n",
       "      <td>1</td>\n",
       "      <td>2013-04-25 05:00:00</td>\n",
       "      <td>761421.319797</td>\n",
       "      <td>15820.208333</td>\n",
       "    </tr>\n",
       "  </tbody>\n",
       "</table>\n",
       "</div>"
      ],
      "text/plain": [
       "       id                  ds          usage             t\n",
       "20281   1 2013-04-25 01:00:00  634517.766497  15820.041667\n",
       "20282   1 2013-04-25 02:00:00  507614.213198  15820.083333\n",
       "20283   1 2013-04-25 03:00:00  634517.766497  15820.125000\n",
       "20284   1 2013-04-25 04:00:00  634517.766497  15820.166667\n",
       "20285   1 2013-04-25 05:00:00  761421.319797  15820.208333"
      ]
     },
     "execution_count": 27,
     "metadata": {},
     "output_type": "execute_result"
    }
   ],
   "source": [
    "df.head()"
   ]
  },
  {
   "cell_type": "code",
   "execution_count": 28,
   "metadata": {},
   "outputs": [
    {
     "data": {
      "text/plain": [
       "((4795550, 4), (235586, 4))"
      ]
     },
     "execution_count": 28,
     "metadata": {},
     "output_type": "execute_result"
    }
   ],
   "source": [
    "df_train = df[df.ds.lt('2014-07-01')]\n",
    "df_test = df[df.ds.between('2014-07-01', '2014-07-30')]\n",
    "df_train.shape, df_test.shape"
   ]
  },
  {
   "cell_type": "code",
   "execution_count": 29,
   "metadata": {},
   "outputs": [
    {
     "name": "stderr",
     "output_type": "stream",
     "text": [
      "/var/folders/3_/t5j_szld1slc2jm0vb2r4s180000gn/T/ipykernel_17405/2482032622.py:2: SettingWithCopyWarning: \n",
      "A value is trying to be set on a copy of a slice from a DataFrame.\n",
      "Try using .loc[row_indexer,col_indexer] = value instead\n",
      "\n",
      "See the caveats in the documentation: https://pandas.pydata.org/pandas-docs/stable/user_guide/indexing.html#returning-a-view-versus-a-copy\n",
      "  df_train['id'] = df_train.id.map(id_map)\n",
      "/var/folders/3_/t5j_szld1slc2jm0vb2r4s180000gn/T/ipykernel_17405/2482032622.py:3: SettingWithCopyWarning: \n",
      "A value is trying to be set on a copy of a slice from a DataFrame.\n",
      "Try using .loc[row_indexer,col_indexer] = value instead\n",
      "\n",
      "See the caveats in the documentation: https://pandas.pydata.org/pandas-docs/stable/user_guide/indexing.html#returning-a-view-versus-a-copy\n",
      "  df_test['id'] = df_test.id.map(id_map)\n"
     ]
    }
   ],
   "source": [
    "id_map = {old: new for new, old in enumerate(df_train.id.unique())}\n",
    "df_train['id'] = df_train.id.map(id_map)\n",
    "df_test['id'] = df_test.id.map(id_map)\n",
    "df_test = df_test[df_test.id.notnull()]"
   ]
  },
  {
   "cell_type": "code",
   "execution_count": 30,
   "metadata": {},
   "outputs": [
    {
     "data": {
      "text/plain": [
       "((4795550, 4), (235586, 4))"
      ]
     },
     "execution_count": 30,
     "metadata": {},
     "output_type": "execute_result"
    }
   ],
   "source": [
    "df_train.shape, df_test.shape"
   ]
  },
  {
   "cell_type": "markdown",
   "metadata": {},
   "source": [
    "# Model"
   ]
  },
  {
   "cell_type": "code",
   "execution_count": 33,
   "metadata": {},
   "outputs": [
    {
     "name": "stderr",
     "output_type": "stream",
     "text": [
      "2022-08-02 14:06:24.941599: I tensorflow/core/platform/cpu_feature_guard.cc:151] This TensorFlow binary is optimized with oneAPI Deep Neural Network Library (oneDNN) to use the following CPU instructions in performance-critical operations:  AVX2 AVX512F FMA\n",
      "To enable them in other operations, rebuild TensorFlow with the appropriate compiler flags.\n"
     ]
    }
   ],
   "source": [
    "from tensorflow import keras\n",
    "\n",
    "%run ../ryan_adams/__init__.py\n",
    "\n",
    "n_items = df_train.id.nunique()\n",
    "t_range = df_train.t.min(), df_train.t.max()\n",
    "model = RyanAdams(\n",
    "    trends=[\n",
    "        LinearTrend(n_items=1, t_range=t_range, name='global_trend'),\n",
    "        LinearTrend(n_items=n_items, t_range=t_range, name='local_trend'),\n",
    "    ],\n",
    "    seasonalities=[\n",
    "        Seasonality(n_items=1, period=365.25, order=10, name='gobal_seasonality_yearly'),\n",
    "        Seasonality(n_items=1, period=7, order=3, name='gobal_seasonality_weekly'),\n",
    "        Seasonality(n_items=1, period=1, order=10, name='gobal_seasonality_daily'),\n",
    "        Seasonality(n_items=n_items, period=365.25, order=10, name='local_seasonality_yearly'),\n",
    "        Seasonality(n_items=n_items, period=7, order=3, name='local_seasonality_weekly'),\n",
    "        Seasonality(n_items=n_items, period=1, order=10, name='local_seasonality_daily'),\n",
    "    ],\n",
    "    outer_layers=[\n",
    "        keras.layers.Dense(10, activation='linear'),\n",
    "        keras.layers.BatchNormalization(),\n",
    "        keras.layers.Dense(10, activation='linear'),\n",
    "        keras.layers.BatchNormalization(),\n",
    "        keras.layers.Dense(10, activation='linear'),\n",
    "    ],\n",
    "    output_activations='softplus',\n",
    ")"
   ]
  },
  {
   "cell_type": "code",
   "execution_count": 34,
   "metadata": {},
   "outputs": [
    {
     "name": "stdout",
     "output_type": "stream",
     "text": [
      "Model: \"model\"\n",
      "__________________________________________________________________________________________________\n",
      " Layer (type)                   Output Shape         Param #     Connected to                     \n",
      "==================================================================================================\n",
      " t (InputLayer)                 [(None, 1)]          0           []                               \n",
      "                                                                                                  \n",
      " id (InputLayer)                [(None, 1)]          0           []                               \n",
      "                                                                                                  \n",
      " global_trend (LinearTrend)     (None, 1)            22          ['t[0][0]']                      \n",
      "                                                                                                  \n",
      " local_trend (LinearTrend)      (None, 1)            7436        ['t[0][0]',                      \n",
      "                                                                  'id[0][0]']                     \n",
      "                                                                                                  \n",
      " gobal_seasonality_yearly (Seas  (None, 1)           20          ['t[0][0]']                      \n",
      " onality)                                                                                         \n",
      "                                                                                                  \n",
      " gobal_seasonality_weekly (Seas  (None, 1)           6           ['t[0][0]']                      \n",
      " onality)                                                                                         \n",
      "                                                                                                  \n",
      " gobal_seasonality_daily (Seaso  (None, 1)           20          ['t[0][0]']                      \n",
      " nality)                                                                                          \n",
      "                                                                                                  \n",
      " local_seasonality_yearly (Seas  (None, 1)           6760        ['t[0][0]',                      \n",
      " onality)                                                         'id[0][0]']                     \n",
      "                                                                                                  \n",
      " local_seasonality_weekly (Seas  (None, 1)           2028        ['t[0][0]',                      \n",
      " onality)                                                         'id[0][0]']                     \n",
      "                                                                                                  \n",
      " local_seasonality_daily (Seaso  (None, 1)           6760        ['t[0][0]',                      \n",
      " nality)                                                          'id[0][0]']                     \n",
      "                                                                                                  \n",
      " concatenate (Concatenate)      (None, 8)            0           ['global_trend[0][0]',           \n",
      "                                                                  'local_trend[0][0]',            \n",
      "                                                                  'gobal_seasonality_yearly[0][0]'\n",
      "                                                                 , 'gobal_seasonality_weekly[0][0]\n",
      "                                                                 ',                               \n",
      "                                                                  'gobal_seasonality_daily[0][0]',\n",
      "                                                                  'local_seasonality_yearly[0][0]'\n",
      "                                                                 , 'local_seasonality_weekly[0][0]\n",
      "                                                                 ',                               \n",
      "                                                                  'local_seasonality_daily[0][0]']\n",
      "                                                                                                  \n",
      " dense (Dense)                  (None, 10)           90          ['concatenate[0][0]']            \n",
      "                                                                                                  \n",
      " batch_normalization (BatchNorm  (None, 10)          40          ['dense[0][0]']                  \n",
      " alization)                                                                                       \n",
      "                                                                                                  \n",
      " dense_1 (Dense)                (None, 10)           110         ['batch_normalization[0][0]']    \n",
      "                                                                                                  \n",
      " batch_normalization_1 (BatchNo  (None, 10)          40          ['dense_1[0][0]']                \n",
      " rmalization)                                                                                     \n",
      "                                                                                                  \n",
      " dense_2 (Dense)                (None, 10)           110         ['batch_normalization_1[0][0]']  \n",
      "                                                                                                  \n",
      " dense_3 (Dense)                (None, 1)            11          ['dense_2[0][0]']                \n",
      "                                                                                                  \n",
      " concatenate_1 (Concatenate)    (None, 1)            0           ['dense_3[0][0]']                \n",
      "                                                                                                  \n",
      "==================================================================================================\n",
      "Total params: 23,453\n",
      "Trainable params: 23,413\n",
      "Non-trainable params: 40\n",
      "__________________________________________________________________________________________________\n"
     ]
    }
   ],
   "source": [
    "model._model.summary()"
   ]
  },
  {
   "cell_type": "code",
   "execution_count": null,
   "metadata": {
    "tags": []
   },
   "outputs": [
    {
     "name": "stdout",
     "output_type": "stream",
     "text": [
      "Epoch 1/20\n",
      "149861/149861 [==============================] - 378s 3ms/step - loss: 504703090688.0000 - val_loss: 398531952640.0000 - lr: 0.0010\n",
      "Epoch 2/20\n",
      "149861/149861 [==============================] - 352s 2ms/step - loss: 341551775744.0000 - val_loss: 369357094912.0000 - lr: 0.0010\n",
      "Epoch 3/20\n",
      "149861/149861 [==============================] - 318s 2ms/step - loss: 339022577664.0000 - val_loss: 468808073216.0000 - lr: 0.0010\n",
      "Epoch 4/20\n",
      "149861/149861 [==============================] - 355s 2ms/step - loss: 337295048704.0000 - val_loss: 368421732352.0000 - lr: 0.0010\n",
      "Epoch 5/20\n",
      " 48819/149861 [========>.....................] - ETA: 3:41 - loss: 335750758400.0000"
     ]
    }
   ],
   "source": [
    "import tensorflow as tf\n",
    "\n",
    "train_sample = df_train\n",
    "\n",
    "Xt_train = train_sample[['id', 't']].to_dict('series')\n",
    "Xt_test = df_test[['id', 't']].to_dict('series')\n",
    "\n",
    "model._model.fit(\n",
    "    Xt_train,\n",
    "    train_sample.usage,\n",
    "    batch_size=32,\n",
    "    epochs=20,\n",
    "    validation_data=(Xt_test, df_test.usage),\n",
    "    callbacks=[tf.keras.callbacks.ReduceLROnPlateau(verbose=1, patience=3)]\n",
    ")"
   ]
  },
  {
   "cell_type": "code",
   "execution_count": null,
   "metadata": {
    "tags": []
   },
   "outputs": [],
   "source": [
    "zz = df_train.sample(1000)\n",
    "y_test_params = model._model.predict(zz[['id', 't']].to_dict('series'))\n",
    "mu = y_test_params[:, 0]\n",
    "\n",
    "(zz.usage - mu).hist()"
   ]
  },
  {
   "cell_type": "code",
   "execution_count": null,
   "metadata": {},
   "outputs": [],
   "source": [
    "fig, ax = plt.subplots(figsize=(10, 5), sharey=True)\n",
    "\n",
    "i = np.random.choice(df_train.id)\n",
    "zz = df_train[df_train.id == i].set_index('ds').sort_index()\n",
    "zz = zz.loc[:zz.index.min() + pd.to_timedelta('7D')]\n",
    "zz['p'] = model._model.predict(zz[['id', 't']].to_dict('series'))[:, 0]\n",
    "zz.usage.plot(ax=ax, color='C0')\n",
    "zz.p.plot(ax=ax, color='C1')\n"
   ]
  },
  {
   "cell_type": "code",
   "execution_count": null,
   "metadata": {
    "tags": []
   },
   "outputs": [],
   "source": [
    "plot_components(model)"
   ]
  }
 ],
 "metadata": {
  "kernelspec": {
   "display_name": "Python 3 (ipykernel)",
   "language": "python",
   "name": "python3"
  },
  "language_info": {
   "codemirror_mode": {
    "name": "ipython",
    "version": 3
   },
   "file_extension": ".py",
   "mimetype": "text/x-python",
   "name": "python",
   "nbconvert_exporter": "python",
   "pygments_lexer": "ipython3",
   "version": "3.8.12"
  }
 },
 "nbformat": 4,
 "nbformat_minor": 4
}
