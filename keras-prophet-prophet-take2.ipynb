{
 "cells": [
  {
   "cell_type": "markdown",
   "metadata": {},
   "source": [
    "Data\n",
    "- https://www.cs.utexas.edu/~rofuyu/papers/tr-mf-nips.pdf\n",
    "- https://files.stlouisfed.org/files/htdocs/conferences/2014-nber-nsf/docs/papers/Nicholson,%20Will.pdf\n",
    "\n",
    "Blogs\n",
    "- https://medium.com/slalom-technology/failing-fast-with-deepar-neural-networks-for-time-series-ef442bf03567\n",
    "\n",
    "Do deep nets need to be so deep\n",
    "- https://arxiv.org/abs/1312.6184\n",
    "- https://arxiv.org/abs/1312.6184"
   ]
  },
  {
   "cell_type": "markdown",
   "metadata": {},
   "source": [
    "# Goals\n",
    "\n",
    "- model should reduce to fb prophet when some input parameter is 1 (e.g. number of layers) and before any link functions are applied. In other words, fb prophet should be a special case\n",
    "- support arbitrary loss functions\n",
    "- support multi-parameter distribution modeling\n",
    "- can we incorporate https://en.wikipedia.org/wiki/Discrete-time_Fourier_transform\n",
    "- demonstrate generalization to new \"items\" (IDs) via collaborative layers\n",
    "- maybe offset the `t` in seasonal layers with the trend embedding"
   ]
  },
  {
   "cell_type": "markdown",
   "metadata": {},
   "source": [
    "# TODO:\n",
    "\n",
    "- simulated data\n",
    "- try overfitting to a single house\n",
    "- try different data set: parts or https://www.kaggle.com/c/web-traffic-time-series-forecasting"
   ]
  },
  {
   "cell_type": "code",
   "execution_count": 1,
   "metadata": {},
   "outputs": [
    {
     "data": {
      "text/html": [
       "<div>\n",
       "<style scoped>\n",
       "    .dataframe tbody tr th:only-of-type {\n",
       "        vertical-align: middle;\n",
       "    }\n",
       "\n",
       "    .dataframe tbody tr th {\n",
       "        vertical-align: top;\n",
       "    }\n",
       "\n",
       "    .dataframe thead th {\n",
       "        text-align: right;\n",
       "    }\n",
       "</style>\n",
       "<table border=\"1\" class=\"dataframe\">\n",
       "  <thead>\n",
       "    <tr style=\"text-align: right;\">\n",
       "      <th></th>\n",
       "      <th>year</th>\n",
       "      <th>month</th>\n",
       "      <th>date_of_month</th>\n",
       "      <th>day_of_week</th>\n",
       "      <th>births</th>\n",
       "    </tr>\n",
       "  </thead>\n",
       "  <tbody>\n",
       "    <tr>\n",
       "      <th>0</th>\n",
       "      <td>2000</td>\n",
       "      <td>1</td>\n",
       "      <td>1</td>\n",
       "      <td>6</td>\n",
       "      <td>9083</td>\n",
       "    </tr>\n",
       "    <tr>\n",
       "      <th>1</th>\n",
       "      <td>2000</td>\n",
       "      <td>1</td>\n",
       "      <td>2</td>\n",
       "      <td>7</td>\n",
       "      <td>8006</td>\n",
       "    </tr>\n",
       "    <tr>\n",
       "      <th>2</th>\n",
       "      <td>2000</td>\n",
       "      <td>1</td>\n",
       "      <td>3</td>\n",
       "      <td>1</td>\n",
       "      <td>11363</td>\n",
       "    </tr>\n",
       "    <tr>\n",
       "      <th>3</th>\n",
       "      <td>2000</td>\n",
       "      <td>1</td>\n",
       "      <td>4</td>\n",
       "      <td>2</td>\n",
       "      <td>13032</td>\n",
       "    </tr>\n",
       "    <tr>\n",
       "      <th>4</th>\n",
       "      <td>2000</td>\n",
       "      <td>1</td>\n",
       "      <td>5</td>\n",
       "      <td>3</td>\n",
       "      <td>12558</td>\n",
       "    </tr>\n",
       "  </tbody>\n",
       "</table>\n",
       "</div>"
      ],
      "text/plain": [
       "   year  month  date_of_month  day_of_week  births\n",
       "0  2000      1              1            6    9083\n",
       "1  2000      1              2            7    8006\n",
       "2  2000      1              3            1   11363\n",
       "3  2000      1              4            2   13032\n",
       "4  2000      1              5            3   12558"
      ]
     },
     "execution_count": 1,
     "metadata": {},
     "output_type": "execute_result"
    }
   ],
   "source": [
    "# https://statmodeling.stat.columbia.edu/2013/12/19/happy-birthday/\n",
    "# https://fivethirtyeight.com/features/some-people-are-too-superstitious-to-have-a-baby-on-friday-the-13th/\n",
    "\n",
    "import pandas as pd\n",
    "from fbprophet import Prophet\n",
    "\n",
    "df = pd.read_csv('../prophet-the-rf-of-timeseries/US_births_2000-2014_SSA.csv')\n",
    "df.head()"
   ]
  },
  {
   "cell_type": "code",
   "execution_count": 2,
   "metadata": {},
   "outputs": [
    {
     "data": {
      "text/html": [
       "<div>\n",
       "<style scoped>\n",
       "    .dataframe tbody tr th:only-of-type {\n",
       "        vertical-align: middle;\n",
       "    }\n",
       "\n",
       "    .dataframe tbody tr th {\n",
       "        vertical-align: top;\n",
       "    }\n",
       "\n",
       "    .dataframe thead th {\n",
       "        text-align: right;\n",
       "    }\n",
       "</style>\n",
       "<table border=\"1\" class=\"dataframe\">\n",
       "  <thead>\n",
       "    <tr style=\"text-align: right;\">\n",
       "      <th></th>\n",
       "      <th>year</th>\n",
       "      <th>month</th>\n",
       "      <th>date_of_month</th>\n",
       "      <th>day_of_week</th>\n",
       "      <th>births</th>\n",
       "      <th>ds</th>\n",
       "    </tr>\n",
       "  </thead>\n",
       "  <tbody>\n",
       "    <tr>\n",
       "      <th>0</th>\n",
       "      <td>2000</td>\n",
       "      <td>1</td>\n",
       "      <td>1</td>\n",
       "      <td>6</td>\n",
       "      <td>9083</td>\n",
       "      <td>2000-01-01</td>\n",
       "    </tr>\n",
       "    <tr>\n",
       "      <th>1</th>\n",
       "      <td>2000</td>\n",
       "      <td>1</td>\n",
       "      <td>2</td>\n",
       "      <td>7</td>\n",
       "      <td>8006</td>\n",
       "      <td>2000-01-02</td>\n",
       "    </tr>\n",
       "    <tr>\n",
       "      <th>2</th>\n",
       "      <td>2000</td>\n",
       "      <td>1</td>\n",
       "      <td>3</td>\n",
       "      <td>1</td>\n",
       "      <td>11363</td>\n",
       "      <td>2000-01-03</td>\n",
       "    </tr>\n",
       "    <tr>\n",
       "      <th>3</th>\n",
       "      <td>2000</td>\n",
       "      <td>1</td>\n",
       "      <td>4</td>\n",
       "      <td>2</td>\n",
       "      <td>13032</td>\n",
       "      <td>2000-01-04</td>\n",
       "    </tr>\n",
       "    <tr>\n",
       "      <th>4</th>\n",
       "      <td>2000</td>\n",
       "      <td>1</td>\n",
       "      <td>5</td>\n",
       "      <td>3</td>\n",
       "      <td>12558</td>\n",
       "      <td>2000-01-05</td>\n",
       "    </tr>\n",
       "  </tbody>\n",
       "</table>\n",
       "</div>"
      ],
      "text/plain": [
       "   year  month  date_of_month  day_of_week  births         ds\n",
       "0  2000      1              1            6    9083 2000-01-01\n",
       "1  2000      1              2            7    8006 2000-01-02\n",
       "2  2000      1              3            1   11363 2000-01-03\n",
       "3  2000      1              4            2   13032 2000-01-04\n",
       "4  2000      1              5            3   12558 2000-01-05"
      ]
     },
     "execution_count": 2,
     "metadata": {},
     "output_type": "execute_result"
    }
   ],
   "source": [
    "df['ds'] = pd.to_datetime(df.drop(['day_of_week', 'births'], axis=1).rename({'date_of_month': 'day'}, axis=1))\n",
    "df.head()"
   ]
  },
  {
   "cell_type": "code",
   "execution_count": 3,
   "metadata": {},
   "outputs": [],
   "source": [
    "T0 = pd.Timestamp(0)\n",
    "df['t'] = (df.ds - T0).dt.total_seconds() / (60 * 60 * 24)"
   ]
  },
  {
   "cell_type": "code",
   "execution_count": 4,
   "metadata": {},
   "outputs": [],
   "source": [
    "df['id'] = 0"
   ]
  },
  {
   "cell_type": "code",
   "execution_count": 5,
   "metadata": {},
   "outputs": [
    {
     "data": {
      "text/html": [
       "<div>\n",
       "<style scoped>\n",
       "    .dataframe tbody tr th:only-of-type {\n",
       "        vertical-align: middle;\n",
       "    }\n",
       "\n",
       "    .dataframe tbody tr th {\n",
       "        vertical-align: top;\n",
       "    }\n",
       "\n",
       "    .dataframe thead th {\n",
       "        text-align: right;\n",
       "    }\n",
       "</style>\n",
       "<table border=\"1\" class=\"dataframe\">\n",
       "  <thead>\n",
       "    <tr style=\"text-align: right;\">\n",
       "      <th></th>\n",
       "      <th>year</th>\n",
       "      <th>month</th>\n",
       "      <th>date_of_month</th>\n",
       "      <th>day_of_week</th>\n",
       "      <th>births</th>\n",
       "      <th>ds</th>\n",
       "      <th>t</th>\n",
       "      <th>id</th>\n",
       "    </tr>\n",
       "  </thead>\n",
       "  <tbody>\n",
       "    <tr>\n",
       "      <th>0</th>\n",
       "      <td>2000</td>\n",
       "      <td>1</td>\n",
       "      <td>1</td>\n",
       "      <td>6</td>\n",
       "      <td>9083</td>\n",
       "      <td>2000-01-01</td>\n",
       "      <td>10957.0</td>\n",
       "      <td>0</td>\n",
       "    </tr>\n",
       "    <tr>\n",
       "      <th>1</th>\n",
       "      <td>2000</td>\n",
       "      <td>1</td>\n",
       "      <td>2</td>\n",
       "      <td>7</td>\n",
       "      <td>8006</td>\n",
       "      <td>2000-01-02</td>\n",
       "      <td>10958.0</td>\n",
       "      <td>0</td>\n",
       "    </tr>\n",
       "    <tr>\n",
       "      <th>2</th>\n",
       "      <td>2000</td>\n",
       "      <td>1</td>\n",
       "      <td>3</td>\n",
       "      <td>1</td>\n",
       "      <td>11363</td>\n",
       "      <td>2000-01-03</td>\n",
       "      <td>10959.0</td>\n",
       "      <td>0</td>\n",
       "    </tr>\n",
       "    <tr>\n",
       "      <th>3</th>\n",
       "      <td>2000</td>\n",
       "      <td>1</td>\n",
       "      <td>4</td>\n",
       "      <td>2</td>\n",
       "      <td>13032</td>\n",
       "      <td>2000-01-04</td>\n",
       "      <td>10960.0</td>\n",
       "      <td>0</td>\n",
       "    </tr>\n",
       "    <tr>\n",
       "      <th>4</th>\n",
       "      <td>2000</td>\n",
       "      <td>1</td>\n",
       "      <td>5</td>\n",
       "      <td>3</td>\n",
       "      <td>12558</td>\n",
       "      <td>2000-01-05</td>\n",
       "      <td>10961.0</td>\n",
       "      <td>0</td>\n",
       "    </tr>\n",
       "  </tbody>\n",
       "</table>\n",
       "</div>"
      ],
      "text/plain": [
       "   year  month  date_of_month  day_of_week  births         ds        t  id\n",
       "0  2000      1              1            6    9083 2000-01-01  10957.0   0\n",
       "1  2000      1              2            7    8006 2000-01-02  10958.0   0\n",
       "2  2000      1              3            1   11363 2000-01-03  10959.0   0\n",
       "3  2000      1              4            2   13032 2000-01-04  10960.0   0\n",
       "4  2000      1              5            3   12558 2000-01-05  10961.0   0"
      ]
     },
     "execution_count": 5,
     "metadata": {},
     "output_type": "execute_result"
    }
   ],
   "source": [
    "df.head()"
   ]
  },
  {
   "cell_type": "markdown",
   "metadata": {},
   "source": [
    "# Inspect"
   ]
  },
  {
   "cell_type": "code",
   "execution_count": 6,
   "metadata": {},
   "outputs": [],
   "source": [
    "%run stl"
   ]
  },
  {
   "cell_type": "code",
   "execution_count": 7,
   "metadata": {},
   "outputs": [
    {
     "data": {
      "text/plain": [
       "[<matplotlib.lines.Line2D at 0x7fc9860556d0>,\n",
       " <matplotlib.lines.Line2D at 0x7fc98603c550>,\n",
       " <matplotlib.lines.Line2D at 0x7fc9860558d0>]"
      ]
     },
     "execution_count": 7,
     "metadata": {},
     "output_type": "execute_result"
    },
    {
     "data": {
      "image/png": "[encoded data removed]",
      "text/plain": [
       "<Figure size 432x288 with 1 Axes>"
      ]
     },
     "metadata": {
      "needs_background": "light"
     },
     "output_type": "display_data"
    }
   ],
   "source": [
    "import matplotlib.pyplot as plt\n",
    "import numpy as np\n",
    "\n",
    "c = 5\n",
    "d = np.repeat(np.random.normal(size=(1, 3, c)), 100, axis=0)\n",
    "s = np.arange(c, dtype='float32') * 20\n",
    "t = np.arange(100, dtype='float32')[:, None] + 1.\n",
    "\n",
    "plt.plot(\n",
    "    CallaborativeLinearTrendEmbedding.trend(\n",
    "        d,\n",
    "        np.arange(3) * 10,\n",
    "        np.ones(3),\n",
    "        s,\n",
    "        t,\n",
    "    ).numpy()\n",
    ")"
   ]
  },
  {
   "cell_type": "code",
   "execution_count": 8,
   "metadata": {
    "jupyter": {
     "source_hidden": true
    },
    "tags": []
   },
   "outputs": [],
   "source": [
    "# import numpy as np\n",
    "# import tensorflow as tf\n",
    "\n",
    "\n",
    "# class SeasonalEmbedding(tf.keras.layers.Layer):\n",
    "#     def __init__(self, *args, input_dim, period, N, **kwargs):\n",
    "#         super().__init__(*args, **kwargs)\n",
    "#         self.input_dim = input_dim\n",
    "#         self.period = period\n",
    "#         self.N = N\n",
    "#         # model params\n",
    "#         self.a_n, self.b_n = [tf.keras.layers.Embedding(input_dim=input_dim, output_dim=N, input_length=1)] * 2\n",
    "\n",
    "\n",
    "#     def call(self, input_tensor, training=False):\n",
    "#         id, t = input_tensor\n",
    "#         n = (tf.range(self.N, dtype='float') + 1)[None, :]\n",
    "\n",
    "#         instance_trend = self.fourier_series(\n",
    "#             tf.squeeze(self.a_n(id), axis=1),\n",
    "#             tf.squeeze(self.b_n(id), axis=1),\n",
    "#             t,\n",
    "#             n,\n",
    "#             self.period)\n",
    "#         global_trend = self.fourier_series(\n",
    "#             tf.squeeze(self.a_n(tf.zeros_like(id)), axis=1),\n",
    "#             tf.squeeze(self.b_n(tf.zeros_like(id)), axis=1),\n",
    "#             t,\n",
    "#             n,\n",
    "#             self.period)\n",
    "        \n",
    "#         return instance_trend + global_trend\n",
    "\n",
    "#     @staticmethod\n",
    "#     def fourier_series(a_n, b_n, t, n, period):\n",
    "#         x = (2 * np.pi * tf.multiply(t, n)) / period\n",
    "#         return (\n",
    "#             tf.reduce_sum(tf.multiply(tf.cos(x), a_n), axis=1, keepdims=True)\n",
    "#             + tf.reduce_sum(tf.multiply(tf.sin(x), b_n), axis=1, keepdims=True)\n",
    "#         )\n",
    "    \n",
    "\n",
    "# class SeasonalEmbeddingWithMovement(tf.keras.layers.Layer):\n",
    "#     def __init__(self, *args, period, N, **kwargs):\n",
    "#         super().__init__(*args, **kwargs)\n",
    "#         self.period = period\n",
    "#         self.N = N\n",
    "#         # model params\n",
    "#         self.a_n, self.b_n = [tf.keras.layers.Dense(self.N, activation='linear')] * 2\n",
    "\n",
    "#     def call(self, input_tensor, training=False):\n",
    "#         X, t = input_tensor\n",
    "#         n = (tf.range(self.N, dtype='float') + 1)[None, :]\n",
    "\n",
    "#         return self.fourier_series(\n",
    "#             self.a_n(X),\n",
    "#             self.b_n(X),\n",
    "#             n,\n",
    "#             self.period,\n",
    "#             t)\n",
    "\n",
    "#     @staticmethod\n",
    "#     def fourier_series(a_n, b_n, n, period, t):\n",
    "#         x = (2 * np.pi * tf.multiply(t, n)) / period\n",
    "#         return (\n",
    "#             tf.reduce_sum(tf.multiply(tf.cos(x), a_n), axis=1, keepdims=True)\n",
    "#             + tf.reduce_sum(tf.multiply(tf.sin(x), b_n), axis=1, keepdims=True)\n",
    "#         )\n",
    "\n",
    "\n",
    "# class LinearTrendEmbedding(tf.keras.layers.Layer):\n",
    "#     def __init__(self, *args, input_dim, max_t, n_changepoints=25, checkpoint_range=.8, **kwargs):\n",
    "#         super().__init__(*args, **kwargs)\n",
    "#         self.input_dim = input_dim\n",
    "#         self.max_t = max_t\n",
    "#         self.n_changepoints = n_changepoints\n",
    "#         self.checkpoint_range = checkpoint_range\n",
    "#         self.δ = tf.keras.layers.Embedding(input_dim=input_dim, output_dim=self.n_changepoints * 3, input_length=1,\n",
    "#                                            # l1 imitates Laplace prior from Prophet model\n",
    "#                                            embeddings_regularizer='l1')\n",
    "#         self.m = tf.keras.layers.Embedding(input_dim=input_dim, output_dim=1, input_length=1)\n",
    "#         self.k = tf.keras.layers.Embedding(input_dim=input_dim, output_dim=1, input_length=1)\n",
    "\n",
    "#     def build(self, input_shape):\n",
    "#         self.s = tf.cast(tf.linspace(0, int(self.checkpoint_range * self.max_t), self.n_changepoints + 1), 'float')[1:]\n",
    "\n",
    "#     def call(self, input_tensor, training=False):\n",
    "#         id, t = input_tensor\n",
    "        \n",
    "#         instance_trend = self.trend(\n",
    "#             tf.reshape(tf.squeeze(self.δ(id), axis=1), (-1, self.n_changepoints, 3)),\n",
    "#             tf.reshape(tf.squeeze(self.m(id), axis=1), (-1, self.n_changepoints, 3)),\n",
    "#             tf.reshape(tf.squeeze(self.k(id), axis=1), (-1, self.n_changepoints, 3)),\n",
    "#             self.s,\n",
    "#             t)\n",
    "        \n",
    "#         global_trend = self.trend(\n",
    "#             tf.reshape(tf.squeeze(self.δ(tf.zeros_like(id)), axis=1), (-1, self.n_changepoints, 3)),\n",
    "#             tf.reshape(tf.squeeze(self.m(tf.zeros_like(id)), axis=1), (-1, self.n_changepoints, 3)),\n",
    "#             tf.reshape(tf.squeeze(self.k(tf.zeros_like(id)), axis=1), (-1, self.n_changepoints, 3)),\n",
    "#             self.s,\n",
    "#             t)\n",
    "\n",
    "#         return instance_trend + global_trend\n",
    "\n",
    "#     @staticmethod\n",
    "#     def trend(δ, m, k, s, t):\n",
    "#         A = tf.cast((t > s), 'float')\n",
    "\n",
    "#         trend = tf.reduce_sum(tf.multiply(A, δ), axis=-1) * t + k\n",
    "\n",
    "#         γ = tf.multiply(-s, δ)\n",
    "#         offset = tf.reduce_sum(tf.multiply(A, γ), axis=-1) + m\n",
    "\n",
    "#         return trend + offset\n",
    "    \n",
    "    \n",
    "# class LinearTrendEmbeddingWithMovement(tf.keras.layers.Layer):\n",
    "#     def __init__(self, *args, t_range, n_changepoints=25, checkpoint_range=.8, **kwargs):\n",
    "#         super().__init__(*args, **kwargs)\n",
    "#         self.t_range = t_range\n",
    "#         self.n_changepoints = n_changepoints\n",
    "#         self.checkpoint_range = checkpoint_range\n",
    "#         self.r = tf.keras.layers.Reshape((3, self.n_changepoints))\n",
    "#         self.δ = tf.keras.layers.Dense(self.n_changepoints * 3, kernel_regularizer='l1')\n",
    "#         self.m = tf.keras.layers.Dense(1)\n",
    "#         self.k = tf.keras.layers.Dense(1)\n",
    "\n",
    "#     def build(self, input_shape):\n",
    "#         self.s = tf.cast(tf.linspace(self.t_range[0], int(self.checkpoint_range * self.t_range[1]), self.n_changepoints + 1), 'float')[1:]\n",
    "\n",
    "#     def call(self, input_tensor, training=False):\n",
    "#         X, t = input_tensor\n",
    "#         return self.trend(\n",
    "#             self.r(self.δ(X)),\n",
    "#             self.m(X),\n",
    "#             self.k(X),\n",
    "#             self.s,\n",
    "#             t)\n",
    "\n",
    "#     @staticmethod\n",
    "#     def trend(δ, m, k, s, t):\n",
    "#         A = tf.cast((t > s), 'float')[:, None, :]\n",
    "\n",
    "#         trend = (tf.reduce_sum(tf.multiply(A, δ), axis=-1) + k) * t\n",
    "\n",
    "#         γ = tf.multiply(-s[None, None, :], δ)\n",
    "#         offset = tf.reduce_sum(tf.multiply(A, γ), axis=-1) + m\n",
    "\n",
    "#         return trend + offset\n",
    "    "
   ]
  },
  {
   "cell_type": "code",
   "execution_count": 9,
   "metadata": {},
   "outputs": [
    {
     "data": {
      "text/plain": [
       "<matplotlib.lines.Line2D at 0x7fc9861dedd0>"
      ]
     },
     "execution_count": 9,
     "metadata": {},
     "output_type": "execute_result"
    },
    {
     "data": {
      "image/png": "[encoded data removed]",
      "text/plain": [
       "<Figure size 432x288 with 1 Axes>"
      ]
     },
     "metadata": {
      "needs_background": "light"
     },
     "output_type": "display_data"
    }
   ],
   "source": [
    "order = 10\n",
    "\n",
    "plt.plot(\n",
    "    CallaborativeSeasonalEmbedding.fourier_series(\n",
    "        np.random.normal(size=order),\n",
    "        np.random.normal(size=order),\n",
    "        np.arange(order, dtype='float32') + 1,\n",
    "        24,\n",
    "        np.arange(192, dtype='float32')[:, None] / 4\n",
    "    ).numpy().ravel()\n",
    ")\n",
    "\n",
    "plt.gca().axvline(96, ls='--', color='k')"
   ]
  },
  {
   "cell_type": "markdown",
   "metadata": {},
   "source": [
    "# Model"
   ]
  },
  {
   "cell_type": "code",
   "execution_count": 147,
   "metadata": {},
   "outputs": [],
   "source": [
    "%run stl.py\n",
    "\n",
    "\n",
    "n_items = 1\n",
    "t_range = df.t.min(), df.t.max()\n",
    "\n",
    "model = STL(\n",
    "    n_items=n_items,\n",
    "    embedding_dim=None,\n",
    "    n_inner_layers=None,\n",
    "    n_outer_layers=2,\n",
    "    trend_dim=1,\n",
    "    n_changepoints=20,\n",
    "    checkpoint_range=.8,\n",
    "    t0=None,\n",
    "    t_range=t_range,\n",
    "    periods=[(7, 3), (365.25, 10)],\n",
    "    output_activations='linear',\n",
    ")\n",
    "\n",
    "model._model.compile(loss='mse', optimizer='adam')"
   ]
  },
  {
   "cell_type": "code",
   "execution_count": 148,
   "metadata": {},
   "outputs": [
    {
     "name": "stdout",
     "output_type": "stream",
     "text": [
      "Model: \"model_64\"\n",
      "__________________________________________________________________________________________________\n",
      "Layer (type)                    Output Shape         Param #     Connected to                     \n",
      "==================================================================================================\n",
      "id (InputLayer)                 [(None, 1)]          0                                            \n",
      "__________________________________________________________________________________________________\n",
      "embedding_84 (Embedding)        (None, 1, 3)         3           id[0][0]                         \n",
      "__________________________________________________________________________________________________\n",
      "embedding_86 (Embedding)        (None, 1, 3)         3           id[0][0]                         \n",
      "__________________________________________________________________________________________________\n",
      "embedding_85 (Embedding)        (None, 1, 10)        10          id[0][0]                         \n",
      "__________________________________________________________________________________________________\n",
      "embedding_87 (Embedding)        (None, 1, 10)        10          id[0][0]                         \n",
      "__________________________________________________________________________________________________\n",
      "dense_120 (Dense)               (None, 1, 3)         12          embedding_84[0][0]               \n",
      "__________________________________________________________________________________________________\n",
      "dense_122 (Dense)               (None, 1, 3)         12          embedding_86[0][0]               \n",
      "__________________________________________________________________________________________________\n",
      "dense_121 (Dense)               (None, 1, 10)        110         embedding_85[0][0]               \n",
      "__________________________________________________________________________________________________\n",
      "dense_123 (Dense)               (None, 1, 10)        110         embedding_87[0][0]               \n",
      "__________________________________________________________________________________________________\n",
      "trend_weights (Embedding)       (None, 1, 20)        20          id[0][0]                         \n",
      "__________________________________________________________________________________________________\n",
      "trend_k (Embedding)             (None, 1, 1)         1           id[0][0]                         \n",
      "__________________________________________________________________________________________________\n",
      "trend_m (Embedding)             (None, 1, 1)         1           id[0][0]                         \n",
      "__________________________________________________________________________________________________\n",
      "reshape_153 (Reshape)           (None, 3)            0           dense_120[0][0]                  \n",
      "__________________________________________________________________________________________________\n",
      "reshape_155 (Reshape)           (None, 3)            0           dense_122[0][0]                  \n",
      "__________________________________________________________________________________________________\n",
      "t (InputLayer)                  [(None, 1)]          0                                            \n",
      "__________________________________________________________________________________________________\n",
      "reshape_154 (Reshape)           (None, 10)           0           dense_121[0][0]                  \n",
      "__________________________________________________________________________________________________\n",
      "reshape_156 (Reshape)           (None, 10)           0           dense_123[0][0]                  \n",
      "__________________________________________________________________________________________________\n",
      "reshape_150 (Reshape)           (None, 1, 20)        0           trend_weights[0][0]              \n",
      "__________________________________________________________________________________________________\n",
      "reshape_151 (Reshape)           (None, 1)            0           trend_k[0][0]                    \n",
      "__________________________________________________________________________________________________\n",
      "reshape_152 (Reshape)           (None, 1)            0           trend_m[0][0]                    \n",
      "__________________________________________________________________________________________________\n",
      "callaborative_seasonal_embeddin (None, 1)            0           reshape_153[0][0]                \n",
      "                                                                 reshape_155[0][0]                \n",
      "                                                                 t[0][0]                          \n",
      "__________________________________________________________________________________________________\n",
      "callaborative_seasonal_embeddin (None, 1)            0           reshape_154[0][0]                \n",
      "                                                                 reshape_156[0][0]                \n",
      "                                                                 t[0][0]                          \n",
      "__________________________________________________________________________________________________\n",
      "callaborative_linear_trend_embe (None, 1)            0           reshape_150[0][0]                \n",
      "                                                                 reshape_151[0][0]                \n",
      "                                                                 reshape_152[0][0]                \n",
      "                                                                 t[0][0]                          \n",
      "__________________________________________________________________________________________________\n",
      "concatenate_20 (Concatenate)    (None, 3)            0           callaborative_seasonal_embedding_\n",
      "                                                                 callaborative_seasonal_embedding_\n",
      "                                                                 callaborative_linear_trend_embedd\n",
      "__________________________________________________________________________________________________\n",
      "dense_128 (Dense)               (None, 3)            12          concatenate_20[0][0]             \n",
      "__________________________________________________________________________________________________\n",
      "dense_129 (Dense)               (None, 3)            12          dense_128[0][0]                  \n",
      "__________________________________________________________________________________________________\n",
      "dense_130 (Dense)               (None, 1)            4           dense_129[0][0]                  \n",
      "==================================================================================================\n",
      "Total params: 320\n",
      "Trainable params: 320\n",
      "Non-trainable params: 0\n",
      "__________________________________________________________________________________________________\n"
     ]
    }
   ],
   "source": [
    "model._model.summary()"
   ]
  },
  {
   "cell_type": "code",
   "execution_count": 149,
   "metadata": {},
   "outputs": [
    {
     "name": "stdout",
     "output_type": "stream",
     "text": [
      "Epoch 1/50\n",
      "172/172 [==============================] - 1s 996us/step - loss: 109798612.0231\n",
      "Epoch 2/50\n",
      "172/172 [==============================] - 0s 995us/step - loss: 29723053.0751\n",
      "Epoch 3/50\n",
      "172/172 [==============================] - 0s 925us/step - loss: 12859038.0636\n",
      "Epoch 4/50\n",
      "172/172 [==============================] - 0s 1ms/step - loss: 5587274.6127\n",
      "Epoch 5/50\n",
      "172/172 [==============================] - 0s 1ms/step - loss: 5318157.0954\n",
      "Epoch 6/50\n",
      "172/172 [==============================] - 0s 1ms/step - loss: 5085177.3728\n",
      "Epoch 7/50\n",
      "172/172 [==============================] - 0s 1ms/step - loss: 5014716.6185\n",
      "Epoch 8/50\n",
      "172/172 [==============================] - 0s 986us/step - loss: 4679199.8208\n",
      "Epoch 9/50\n",
      "172/172 [==============================] - 0s 1ms/step - loss: 4262041.1012\n",
      "Epoch 10/50\n",
      "172/172 [==============================] - 0s 1ms/step - loss: 3909756.0867\n",
      "Epoch 11/50\n",
      "172/172 [==============================] - 0s 992us/step - loss: 3399711.2934\n",
      "Epoch 12/50\n",
      "172/172 [==============================] - 0s 990us/step - loss: 2773810.6633\n",
      "Epoch 13/50\n",
      "172/172 [==============================] - 0s 982us/step - loss: 2140016.0224\n",
      "Epoch 14/50\n",
      "172/172 [==============================] - 0s 1ms/step - loss: 1661261.5361\n",
      "Epoch 15/50\n",
      "172/172 [==============================] - 0s 1ms/step - loss: 1185101.2482\n",
      "Epoch 16/50\n",
      "172/172 [==============================] - 0s 974us/step - loss: 909086.2063\n",
      "Epoch 17/50\n",
      "172/172 [==============================] - 0s 975us/step - loss: 704105.0350\n",
      "Epoch 18/50\n",
      "172/172 [==============================] - 0s 1ms/step - loss: 680863.7200\n",
      "Epoch 19/50\n",
      "172/172 [==============================] - 0s 978us/step - loss: 653128.2345\n",
      "Epoch 20/50\n",
      "172/172 [==============================] - 0s 1ms/step - loss: 607618.6913\n",
      "Epoch 21/50\n",
      "172/172 [==============================] - 0s 1ms/step - loss: 696871.3479\n",
      "Epoch 22/50\n",
      "172/172 [==============================] - 0s 1ms/step - loss: 643248.8631\n",
      "Epoch 23/50\n",
      "172/172 [==============================] - 0s 1ms/step - loss: 638931.5589\n",
      "Epoch 24/50\n",
      "172/172 [==============================] - 0s 1ms/step - loss: 618315.7440\n",
      "Epoch 25/50\n",
      "172/172 [==============================] - 0s 1ms/step - loss: 641683.9030\n",
      "Epoch 26/50\n",
      "172/172 [==============================] - 0s 1ms/step - loss: 694890.2720\n",
      "Epoch 27/50\n",
      "172/172 [==============================] - 0s 984us/step - loss: 614731.7720\n",
      "Epoch 28/50\n",
      "172/172 [==============================] - 0s 976us/step - loss: 581457.8105\n",
      "Epoch 29/50\n",
      "172/172 [==============================] - 0s 1ms/step - loss: 653600.5561\n",
      "Epoch 30/50\n",
      "172/172 [==============================] - 0s 1ms/step - loss: 580318.0451\n",
      "Epoch 31/50\n",
      "172/172 [==============================] - 0s 939us/step - loss: 584232.6510\n",
      "Epoch 32/50\n",
      "172/172 [==============================] - 0s 978us/step - loss: 726171.0376\n",
      "Epoch 33/50\n",
      "172/172 [==============================] - 0s 1ms/step - loss: 646490.5506\n",
      "Epoch 34/50\n",
      "172/172 [==============================] - 0s 984us/step - loss: 573401.9832\n",
      "Epoch 35/50\n",
      "172/172 [==============================] - 0s 1ms/step - loss: 657411.8650\n",
      "Epoch 36/50\n",
      "172/172 [==============================] - 0s 1ms/step - loss: 612982.9133\n",
      "Epoch 37/50\n",
      "172/172 [==============================] - 0s 1ms/step - loss: 557835.5307\n",
      "Epoch 38/50\n",
      "172/172 [==============================] - 0s 1ms/step - loss: 610480.4160\n",
      "Epoch 39/50\n",
      "172/172 [==============================] - 0s 1ms/step - loss: 626843.0423\n",
      "Epoch 40/50\n",
      "172/172 [==============================] - 0s 1ms/step - loss: 579984.0452\n",
      "Epoch 41/50\n",
      "172/172 [==============================] - 0s 1ms/step - loss: 662990.0186\n",
      "Epoch 42/50\n",
      "172/172 [==============================] - 0s 1ms/step - loss: 630308.5629\n",
      "Epoch 43/50\n",
      "172/172 [==============================] - 0s 1ms/step - loss: 661120.3298\n",
      "Epoch 44/50\n",
      "172/172 [==============================] - 0s 1ms/step - loss: 619755.0728\n",
      "Epoch 45/50\n",
      "172/172 [==============================] - 0s 1ms/step - loss: 663928.2137\n",
      "Epoch 46/50\n",
      "172/172 [==============================] - 0s 1ms/step - loss: 637644.7764\n",
      "Epoch 47/50\n",
      "172/172 [==============================] - 0s 1ms/step - loss: 655109.5132\n",
      "Epoch 48/50\n",
      "172/172 [==============================] - 0s 1ms/step - loss: 624611.5949\n",
      "Epoch 49/50\n",
      "172/172 [==============================] - 0s 988us/step - loss: 612929.6595\n",
      "Epoch 50/50\n",
      "172/172 [==============================] - 0s 928us/step - loss: 577849.2350\n"
     ]
    },
    {
     "data": {
      "text/plain": [
       "<tensorflow.python.keras.callbacks.History at 0x7fc948e3d950>"
      ]
     },
     "execution_count": 149,
     "metadata": {},
     "output_type": "execute_result"
    }
   ],
   "source": [
    "Xt = df[['id', 't']].to_dict('series')\n",
    "model._model.fit(\n",
    "    Xt, df.births,\n",
    "    batch_size=32,\n",
    "    epochs=50\n",
    ")"
   ]
  },
  {
   "cell_type": "code",
   "execution_count": 150,
   "metadata": {},
   "outputs": [
    {
     "name": "stdout",
     "output_type": "stream",
     "text": [
      "WARNING:tensorflow:5 out of the last 179 calls to <function Model.make_predict_function.<locals>.predict_function at 0x7fc94b10cc20> triggered tf.function retracing. Tracing is expensive and the excessive number of tracings could be due to (1) creating @tf.function repeatedly in a loop, (2) passing tensors with different shapes, (3) passing Python objects instead of tensors. For (1), please define your @tf.function outside of the loop. For (2), @tf.function has experimental_relax_shapes=True option that relaxes argument shapes that can avoid unnecessary retracing. For (3), please refer to https://www.tensorflow.org/guide/function#controlling_retracing and https://www.tensorflow.org/api_docs/python/tf/function for  more details.\n"
     ]
    }
   ],
   "source": [
    "df['p'] = model._model.predict(Xt)"
   ]
  },
  {
   "cell_type": "code",
   "execution_count": 151,
   "metadata": {},
   "outputs": [
    {
     "data": {
      "text/plain": [
       "<AxesSubplot:>"
      ]
     },
     "execution_count": 151,
     "metadata": {},
     "output_type": "execute_result"
    },
    {
     "data": {
      "image/png": "[encoded data removed]",
      "text/plain": [
       "<Figure size 432x288 with 1 Axes>"
      ]
     },
     "metadata": {
      "needs_background": "light"
     },
     "output_type": "display_data"
    }
   ],
   "source": [
    "(df.births - df.p).hist()"
   ]
  },
  {
   "cell_type": "code",
   "execution_count": 152,
   "metadata": {},
   "outputs": [
    {
     "data": {
      "text/plain": [
       "<AxesSubplot:xlabel='t'>"
      ]
     },
     "execution_count": 152,
     "metadata": {},
     "output_type": "execute_result"
    },
    {
     "data": {
      "image/png": "[encoded data removed]",
      "text/plain": [
       "<Figure size 432x288 with 1 Axes>"
      ]
     },
     "metadata": {
      "needs_background": "light"
     },
     "output_type": "display_data"
    }
   ],
   "source": [
    "df.set_index('id').set_index('t')[['births', 'p']].plot()\n"
   ]
  },
  {
   "cell_type": "code",
   "execution_count": 153,
   "metadata": {},
   "outputs": [
    {
     "data": {
      "image/png": "[encoded data removed]",
      "text/plain": [
       "<Figure size 720x720 with 3 Axes>"
      ]
     },
     "metadata": {
      "needs_background": "light"
     },
     "output_type": "display_data"
    }
   ],
   "source": [
    "model.plot()"
   ]
  },
  {
   "cell_type": "code",
   "execution_count": null,
   "metadata": {},
   "outputs": [],
   "source": []
  }
 ],
 "metadata": {
  "kernelspec": {
   "display_name": "Python 3",
   "language": "python",
   "name": "python3"
  },
  "language_info": {
   "codemirror_mode": {
    "name": "ipython",
    "version": 3
   },
   "file_extension": ".py",
   "mimetype": "text/x-python",
   "name": "python",
   "nbconvert_exporter": "python",
   "pygments_lexer": "ipython3",
   "version": "3.7.9"
  }
 },
 "nbformat": 4,
 "nbformat_minor": 4
}
